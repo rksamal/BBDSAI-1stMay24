{
 "cells": [
  {
   "cell_type": "code",
   "execution_count": 1,
   "id": "0f464ba2",
   "metadata": {},
   "outputs": [
    {
     "name": "stdout",
     "output_type": "stream",
     "text": [
      "Akash Vallal\n"
     ]
    }
   ],
   "source": [
    "print(\"Akash Vallal\")"
   ]
  },
  {
   "cell_type": "code",
   "execution_count": 5,
   "id": "4323d274",
   "metadata": {},
   "outputs": [],
   "source": [
    "abc=\"Brainybits\""
   ]
  },
  {
   "cell_type": "code",
   "execution_count": 6,
   "id": "230d9486",
   "metadata": {},
   "outputs": [
    {
     "name": "stdout",
     "output_type": "stream",
     "text": [
      "Brainybits\n"
     ]
    }
   ],
   "source": [
    "print(abc)"
   ]
  },
  {
   "cell_type": "code",
   "execution_count": 7,
   "id": "bcac5bd3",
   "metadata": {},
   "outputs": [],
   "source": [
    "abc_text = \"Hello\""
   ]
  },
  {
   "cell_type": "code",
   "execution_count": 8,
   "id": "8a11bc5c",
   "metadata": {},
   "outputs": [
    {
     "data": {
      "text/plain": [
       "'Hello'"
      ]
     },
     "execution_count": 8,
     "metadata": {},
     "output_type": "execute_result"
    }
   ],
   "source": [
    "abc_text"
   ]
  },
  {
   "cell_type": "code",
   "execution_count": null,
   "id": "e2827eaa",
   "metadata": {},
   "outputs": [],
   "source": []
  }
 ],
 "metadata": {
  "kernelspec": {
   "display_name": "Python 3 (ipykernel)",
   "language": "python",
   "name": "python3"
  },
  "language_info": {
   "codemirror_mode": {
    "name": "ipython",
    "version": 3
   },
   "file_extension": ".py",
   "mimetype": "text/x-python",
   "name": "python",
   "nbconvert_exporter": "python",
   "pygments_lexer": "ipython3",
   "version": "3.7.9"
  }
 },
 "nbformat": 4,
 "nbformat_minor": 5
}
