{
 "cells": [
  {
   "cell_type": "markdown",
   "id": "mental-serve",
   "metadata": {
    "papermill": {
     "duration": 0.044802,
     "end_time": "2021-05-30T03:41:32.092808",
     "exception": false,
     "start_time": "2021-05-30T03:41:32.048006",
     "status": "completed"
    },
    "tags": []
   },
   "source": [
    "# Salary Prediction "
   ]
  },
  {
   "cell_type": "code",
   "execution_count": 1,
   "id": "obvious-shoot",
   "metadata": {
    "execution": {
     "iopub.execute_input": "2021-05-30T03:41:32.195170Z",
     "iopub.status.busy": "2021-05-30T03:41:32.194518Z",
     "iopub.status.idle": "2021-05-30T03:41:33.112300Z",
     "shell.execute_reply": "2021-05-30T03:41:33.112825Z",
     "shell.execute_reply.started": "2021-05-22T11:29:48.461669Z"
    },
    "papermill": {
     "duration": 0.97477,
     "end_time": "2021-05-30T03:41:33.113195",
     "exception": false,
     "start_time": "2021-05-30T03:41:32.138425",
     "status": "completed"
    },
    "tags": []
   },
   "outputs": [],
   "source": [
    "import numpy as np\n",
    "import pandas as pd\n",
    "import matplotlib.pyplot as plt\n",
    "import seaborn as sns\n",
    "\n",
    "import warnings\n",
    "warnings.filterwarnings(\"ignore\") \n",
    "\n",
    "\n",
    "import json"
   ]
  },
  {
   "cell_type": "code",
   "execution_count": 2,
   "id": "nuclear-machinery",
   "metadata": {
    "execution": {
     "iopub.execute_input": "2021-05-30T03:41:33.205096Z",
     "iopub.status.busy": "2021-05-30T03:41:33.204442Z",
     "iopub.status.idle": "2021-05-30T03:41:33.234731Z",
     "shell.execute_reply": "2021-05-30T03:41:33.235238Z",
     "shell.execute_reply.started": "2021-05-22T11:29:48.471232Z"
    },
    "papermill": {
     "duration": 0.077376,
     "end_time": "2021-05-30T03:41:33.235421",
     "exception": false,
     "start_time": "2021-05-30T03:41:33.158045",
     "status": "completed"
    },
    "tags": []
   },
   "outputs": [],
   "source": [
    "df = pd.read_csv(\"Salary_Data.csv\")"
   ]
  },
  {
   "cell_type": "code",
   "execution_count": 3,
   "id": "6bf097f5",
   "metadata": {},
   "outputs": [
    {
     "data": {
      "text/plain": [
       "pandas.core.frame.DataFrame"
      ]
     },
     "execution_count": 3,
     "metadata": {},
     "output_type": "execute_result"
    }
   ],
   "source": [
    "type(df)"
   ]
  },
  {
   "cell_type": "code",
   "execution_count": 4,
   "id": "adaptive-singing",
   "metadata": {
    "execution": {
     "iopub.execute_input": "2021-05-30T03:41:33.466401Z",
     "iopub.status.busy": "2021-05-30T03:41:33.465519Z",
     "iopub.status.idle": "2021-05-30T03:41:33.470671Z",
     "shell.execute_reply": "2021-05-30T03:41:33.470152Z",
     "shell.execute_reply.started": "2021-05-22T11:29:48.505981Z"
    },
    "papermill": {
     "duration": 0.059651,
     "end_time": "2021-05-30T03:41:33.470803",
     "exception": false,
     "start_time": "2021-05-30T03:41:33.411152",
     "status": "completed"
    },
    "tags": []
   },
   "outputs": [
    {
     "data": {
      "text/html": [
       "<div>\n",
       "<style scoped>\n",
       "    .dataframe tbody tr th:only-of-type {\n",
       "        vertical-align: middle;\n",
       "    }\n",
       "\n",
       "    .dataframe tbody tr th {\n",
       "        vertical-align: top;\n",
       "    }\n",
       "\n",
       "    .dataframe thead th {\n",
       "        text-align: right;\n",
       "    }\n",
       "</style>\n",
       "<table border=\"1\" class=\"dataframe\">\n",
       "  <thead>\n",
       "    <tr style=\"text-align: right;\">\n",
       "      <th></th>\n",
       "      <th>YearsExperience</th>\n",
       "      <th>Salary</th>\n",
       "    </tr>\n",
       "  </thead>\n",
       "  <tbody>\n",
       "    <tr>\n",
       "      <th>0</th>\n",
       "      <td>1.1</td>\n",
       "      <td>39343</td>\n",
       "    </tr>\n",
       "    <tr>\n",
       "      <th>1</th>\n",
       "      <td>1.3</td>\n",
       "      <td>46205</td>\n",
       "    </tr>\n",
       "    <tr>\n",
       "      <th>2</th>\n",
       "      <td>1.5</td>\n",
       "      <td>37731</td>\n",
       "    </tr>\n",
       "    <tr>\n",
       "      <th>3</th>\n",
       "      <td>2.0</td>\n",
       "      <td>43525</td>\n",
       "    </tr>\n",
       "    <tr>\n",
       "      <th>4</th>\n",
       "      <td>2.2</td>\n",
       "      <td>39891</td>\n",
       "    </tr>\n",
       "  </tbody>\n",
       "</table>\n",
       "</div>"
      ],
      "text/plain": [
       "   YearsExperience  Salary\n",
       "0              1.1   39343\n",
       "1              1.3   46205\n",
       "2              1.5   37731\n",
       "3              2.0   43525\n",
       "4              2.2   39891"
      ]
     },
     "execution_count": 4,
     "metadata": {},
     "output_type": "execute_result"
    }
   ],
   "source": [
    "df.head()"
   ]
  },
  {
   "cell_type": "code",
   "execution_count": 5,
   "id": "written-ground",
   "metadata": {
    "execution": {
     "iopub.execute_input": "2021-05-30T03:41:33.571596Z",
     "iopub.status.busy": "2021-05-30T03:41:33.570799Z",
     "iopub.status.idle": "2021-05-30T03:41:33.577886Z",
     "shell.execute_reply": "2021-05-30T03:41:33.577248Z",
     "shell.execute_reply.started": "2021-05-22T11:29:48.524946Z"
    },
    "papermill": {
     "duration": 0.062378,
     "end_time": "2021-05-30T03:41:33.578070",
     "exception": false,
     "start_time": "2021-05-30T03:41:33.515692",
     "status": "completed"
    },
    "tags": []
   },
   "outputs": [
    {
     "data": {
      "text/html": [
       "<div>\n",
       "<style scoped>\n",
       "    .dataframe tbody tr th:only-of-type {\n",
       "        vertical-align: middle;\n",
       "    }\n",
       "\n",
       "    .dataframe tbody tr th {\n",
       "        vertical-align: top;\n",
       "    }\n",
       "\n",
       "    .dataframe thead th {\n",
       "        text-align: right;\n",
       "    }\n",
       "</style>\n",
       "<table border=\"1\" class=\"dataframe\">\n",
       "  <thead>\n",
       "    <tr style=\"text-align: right;\">\n",
       "      <th></th>\n",
       "      <th>YearsExperience</th>\n",
       "      <th>Salary</th>\n",
       "    </tr>\n",
       "  </thead>\n",
       "  <tbody>\n",
       "    <tr>\n",
       "      <th>25</th>\n",
       "      <td>9.0</td>\n",
       "      <td>105582</td>\n",
       "    </tr>\n",
       "    <tr>\n",
       "      <th>26</th>\n",
       "      <td>9.5</td>\n",
       "      <td>116969</td>\n",
       "    </tr>\n",
       "    <tr>\n",
       "      <th>27</th>\n",
       "      <td>9.6</td>\n",
       "      <td>112635</td>\n",
       "    </tr>\n",
       "    <tr>\n",
       "      <th>28</th>\n",
       "      <td>10.3</td>\n",
       "      <td>122391</td>\n",
       "    </tr>\n",
       "    <tr>\n",
       "      <th>29</th>\n",
       "      <td>10.5</td>\n",
       "      <td>121872</td>\n",
       "    </tr>\n",
       "  </tbody>\n",
       "</table>\n",
       "</div>"
      ],
      "text/plain": [
       "    YearsExperience  Salary\n",
       "25              9.0  105582\n",
       "26              9.5  116969\n",
       "27              9.6  112635\n",
       "28             10.3  122391\n",
       "29             10.5  121872"
      ]
     },
     "execution_count": 5,
     "metadata": {},
     "output_type": "execute_result"
    }
   ],
   "source": [
    "df.tail()"
   ]
  },
  {
   "cell_type": "code",
   "execution_count": 6,
   "id": "chicken-cincinnati",
   "metadata": {
    "execution": {
     "iopub.execute_input": "2021-05-30T03:41:33.686874Z",
     "iopub.status.busy": "2021-05-30T03:41:33.685941Z",
     "iopub.status.idle": "2021-05-30T03:41:33.691532Z",
     "shell.execute_reply": "2021-05-30T03:41:33.690983Z",
     "shell.execute_reply.started": "2021-05-22T11:29:48.543496Z"
    },
    "papermill": {
     "duration": 0.066433,
     "end_time": "2021-05-30T03:41:33.691698",
     "exception": false,
     "start_time": "2021-05-30T03:41:33.625265",
     "status": "completed"
    },
    "scrolled": true,
    "tags": []
   },
   "outputs": [
    {
     "data": {
      "text/html": [
       "<div>\n",
       "<style scoped>\n",
       "    .dataframe tbody tr th:only-of-type {\n",
       "        vertical-align: middle;\n",
       "    }\n",
       "\n",
       "    .dataframe tbody tr th {\n",
       "        vertical-align: top;\n",
       "    }\n",
       "\n",
       "    .dataframe thead th {\n",
       "        text-align: right;\n",
       "    }\n",
       "</style>\n",
       "<table border=\"1\" class=\"dataframe\">\n",
       "  <thead>\n",
       "    <tr style=\"text-align: right;\">\n",
       "      <th></th>\n",
       "      <th>YearsExperience</th>\n",
       "      <th>Salary</th>\n",
       "    </tr>\n",
       "  </thead>\n",
       "  <tbody>\n",
       "    <tr>\n",
       "      <th>2</th>\n",
       "      <td>1.5</td>\n",
       "      <td>37731</td>\n",
       "    </tr>\n",
       "    <tr>\n",
       "      <th>22</th>\n",
       "      <td>7.9</td>\n",
       "      <td>101302</td>\n",
       "    </tr>\n",
       "    <tr>\n",
       "      <th>24</th>\n",
       "      <td>8.7</td>\n",
       "      <td>109431</td>\n",
       "    </tr>\n",
       "    <tr>\n",
       "      <th>25</th>\n",
       "      <td>9.0</td>\n",
       "      <td>105582</td>\n",
       "    </tr>\n",
       "    <tr>\n",
       "      <th>18</th>\n",
       "      <td>5.9</td>\n",
       "      <td>81363</td>\n",
       "    </tr>\n",
       "    <tr>\n",
       "      <th>27</th>\n",
       "      <td>9.6</td>\n",
       "      <td>112635</td>\n",
       "    </tr>\n",
       "    <tr>\n",
       "      <th>4</th>\n",
       "      <td>2.2</td>\n",
       "      <td>39891</td>\n",
       "    </tr>\n",
       "    <tr>\n",
       "      <th>11</th>\n",
       "      <td>4.0</td>\n",
       "      <td>55794</td>\n",
       "    </tr>\n",
       "    <tr>\n",
       "      <th>21</th>\n",
       "      <td>7.1</td>\n",
       "      <td>98273</td>\n",
       "    </tr>\n",
       "    <tr>\n",
       "      <th>19</th>\n",
       "      <td>6.0</td>\n",
       "      <td>93940</td>\n",
       "    </tr>\n",
       "  </tbody>\n",
       "</table>\n",
       "</div>"
      ],
      "text/plain": [
       "    YearsExperience  Salary\n",
       "2               1.5   37731\n",
       "22              7.9  101302\n",
       "24              8.7  109431\n",
       "25              9.0  105582\n",
       "18              5.9   81363\n",
       "27              9.6  112635\n",
       "4               2.2   39891\n",
       "11              4.0   55794\n",
       "21              7.1   98273\n",
       "19              6.0   93940"
      ]
     },
     "execution_count": 6,
     "metadata": {},
     "output_type": "execute_result"
    }
   ],
   "source": [
    "df.sample(10)   #Random Sample of 10 rows "
   ]
  },
  {
   "cell_type": "code",
   "execution_count": 7,
   "id": "worldwide-wheel",
   "metadata": {
    "execution": {
     "iopub.execute_input": "2021-05-30T03:41:33.792327Z",
     "iopub.status.busy": "2021-05-30T03:41:33.791445Z",
     "iopub.status.idle": "2021-05-30T03:41:33.795898Z",
     "shell.execute_reply": "2021-05-30T03:41:33.795369Z",
     "shell.execute_reply.started": "2021-05-22T11:29:48.560078Z"
    },
    "papermill": {
     "duration": 0.057519,
     "end_time": "2021-05-30T03:41:33.796066",
     "exception": false,
     "start_time": "2021-05-30T03:41:33.738547",
     "status": "completed"
    },
    "tags": []
   },
   "outputs": [
    {
     "data": {
      "text/plain": [
       "(30, 2)"
      ]
     },
     "execution_count": 7,
     "metadata": {},
     "output_type": "execute_result"
    }
   ],
   "source": [
    "df.shape        # Rows and Columns of the Dataset. "
   ]
  },
  {
   "cell_type": "code",
   "execution_count": 8,
   "id": "chicken-diagram",
   "metadata": {
    "execution": {
     "iopub.execute_input": "2021-05-30T03:41:33.909876Z",
     "iopub.status.busy": "2021-05-30T03:41:33.909117Z",
     "iopub.status.idle": "2021-05-30T03:41:33.913420Z",
     "shell.execute_reply": "2021-05-30T03:41:33.912756Z",
     "shell.execute_reply.started": "2021-05-22T11:29:48.572647Z"
    },
    "papermill": {
     "duration": 0.070703,
     "end_time": "2021-05-30T03:41:33.913575",
     "exception": false,
     "start_time": "2021-05-30T03:41:33.842872",
     "status": "completed"
    },
    "tags": []
   },
   "outputs": [
    {
     "name": "stdout",
     "output_type": "stream",
     "text": [
      "<class 'pandas.core.frame.DataFrame'>\n",
      "RangeIndex: 30 entries, 0 to 29\n",
      "Data columns (total 2 columns):\n",
      " #   Column           Non-Null Count  Dtype  \n",
      "---  ------           --------------  -----  \n",
      " 0   YearsExperience  30 non-null     float64\n",
      " 1   Salary           30 non-null     int64  \n",
      "dtypes: float64(1), int64(1)\n",
      "memory usage: 608.0 bytes\n"
     ]
    }
   ],
   "source": [
    "#Data type of the Data\n",
    "\n",
    "df.info()"
   ]
  },
  {
   "cell_type": "code",
   "execution_count": 9,
   "id": "convenient-student",
   "metadata": {
    "execution": {
     "iopub.execute_input": "2021-05-30T03:41:34.017803Z",
     "iopub.status.busy": "2021-05-30T03:41:34.017122Z",
     "iopub.status.idle": "2021-05-30T03:41:34.036202Z",
     "shell.execute_reply": "2021-05-30T03:41:34.035579Z",
     "shell.execute_reply.started": "2021-05-22T11:29:48.591969Z"
    },
    "papermill": {
     "duration": 0.075465,
     "end_time": "2021-05-30T03:41:34.036379",
     "exception": false,
     "start_time": "2021-05-30T03:41:33.960914",
     "status": "completed"
    },
    "tags": []
   },
   "outputs": [
    {
     "data": {
      "text/html": [
       "<div>\n",
       "<style scoped>\n",
       "    .dataframe tbody tr th:only-of-type {\n",
       "        vertical-align: middle;\n",
       "    }\n",
       "\n",
       "    .dataframe tbody tr th {\n",
       "        vertical-align: top;\n",
       "    }\n",
       "\n",
       "    .dataframe thead th {\n",
       "        text-align: right;\n",
       "    }\n",
       "</style>\n",
       "<table border=\"1\" class=\"dataframe\">\n",
       "  <thead>\n",
       "    <tr style=\"text-align: right;\">\n",
       "      <th></th>\n",
       "      <th>YearsExperience</th>\n",
       "      <th>Salary</th>\n",
       "    </tr>\n",
       "  </thead>\n",
       "  <tbody>\n",
       "    <tr>\n",
       "      <th>count</th>\n",
       "      <td>30.000000</td>\n",
       "      <td>30.000000</td>\n",
       "    </tr>\n",
       "    <tr>\n",
       "      <th>mean</th>\n",
       "      <td>5.313333</td>\n",
       "      <td>76003.000000</td>\n",
       "    </tr>\n",
       "    <tr>\n",
       "      <th>std</th>\n",
       "      <td>2.837888</td>\n",
       "      <td>27414.429785</td>\n",
       "    </tr>\n",
       "    <tr>\n",
       "      <th>min</th>\n",
       "      <td>1.100000</td>\n",
       "      <td>37731.000000</td>\n",
       "    </tr>\n",
       "    <tr>\n",
       "      <th>25%</th>\n",
       "      <td>3.200000</td>\n",
       "      <td>56720.750000</td>\n",
       "    </tr>\n",
       "    <tr>\n",
       "      <th>50%</th>\n",
       "      <td>4.700000</td>\n",
       "      <td>65237.000000</td>\n",
       "    </tr>\n",
       "    <tr>\n",
       "      <th>75%</th>\n",
       "      <td>7.700000</td>\n",
       "      <td>100544.750000</td>\n",
       "    </tr>\n",
       "    <tr>\n",
       "      <th>max</th>\n",
       "      <td>10.500000</td>\n",
       "      <td>122391.000000</td>\n",
       "    </tr>\n",
       "  </tbody>\n",
       "</table>\n",
       "</div>"
      ],
      "text/plain": [
       "       YearsExperience         Salary\n",
       "count        30.000000      30.000000\n",
       "mean          5.313333   76003.000000\n",
       "std           2.837888   27414.429785\n",
       "min           1.100000   37731.000000\n",
       "25%           3.200000   56720.750000\n",
       "50%           4.700000   65237.000000\n",
       "75%           7.700000  100544.750000\n",
       "max          10.500000  122391.000000"
      ]
     },
     "execution_count": 9,
     "metadata": {},
     "output_type": "execute_result"
    }
   ],
   "source": [
    "# pd.set_option('precision', 2)\n",
    "\n",
    "\n",
    "df.describe()"
   ]
  },
  {
   "cell_type": "code",
   "execution_count": 10,
   "id": "dress-tension",
   "metadata": {
    "execution": {
     "iopub.execute_input": "2021-05-30T03:41:34.158424Z",
     "iopub.status.busy": "2021-05-30T03:41:34.144221Z",
     "iopub.status.idle": "2021-05-30T03:41:34.162801Z",
     "shell.execute_reply": "2021-05-30T03:41:34.162273Z",
     "shell.execute_reply.started": "2021-05-22T11:29:48.617307Z"
    },
    "papermill": {
     "duration": 0.078495,
     "end_time": "2021-05-30T03:41:34.162980",
     "exception": false,
     "start_time": "2021-05-30T03:41:34.084485",
     "status": "completed"
    },
    "tags": []
   },
   "outputs": [
    {
     "data": {
      "text/html": [
       "<div>\n",
       "<style scoped>\n",
       "    .dataframe tbody tr th:only-of-type {\n",
       "        vertical-align: middle;\n",
       "    }\n",
       "\n",
       "    .dataframe tbody tr th {\n",
       "        vertical-align: top;\n",
       "    }\n",
       "\n",
       "    .dataframe thead th {\n",
       "        text-align: right;\n",
       "    }\n",
       "</style>\n",
       "<table border=\"1\" class=\"dataframe\">\n",
       "  <thead>\n",
       "    <tr style=\"text-align: right;\">\n",
       "      <th></th>\n",
       "      <th>count</th>\n",
       "      <th>mean</th>\n",
       "      <th>std</th>\n",
       "      <th>min</th>\n",
       "      <th>25%</th>\n",
       "      <th>50%</th>\n",
       "      <th>75%</th>\n",
       "      <th>max</th>\n",
       "    </tr>\n",
       "  </thead>\n",
       "  <tbody>\n",
       "    <tr>\n",
       "      <th>YearsExperience</th>\n",
       "      <td>30.0</td>\n",
       "      <td>5.313333</td>\n",
       "      <td>2.837888</td>\n",
       "      <td>1.1</td>\n",
       "      <td>3.20</td>\n",
       "      <td>4.7</td>\n",
       "      <td>7.70</td>\n",
       "      <td>10.5</td>\n",
       "    </tr>\n",
       "    <tr>\n",
       "      <th>Salary</th>\n",
       "      <td>30.0</td>\n",
       "      <td>76003.000000</td>\n",
       "      <td>27414.429785</td>\n",
       "      <td>37731.0</td>\n",
       "      <td>56720.75</td>\n",
       "      <td>65237.0</td>\n",
       "      <td>100544.75</td>\n",
       "      <td>122391.0</td>\n",
       "    </tr>\n",
       "  </tbody>\n",
       "</table>\n",
       "</div>"
      ],
      "text/plain": [
       "                 count          mean           std      min       25%  \\\n",
       "YearsExperience   30.0      5.313333      2.837888      1.1      3.20   \n",
       "Salary            30.0  76003.000000  27414.429785  37731.0  56720.75   \n",
       "\n",
       "                     50%        75%       max  \n",
       "YearsExperience      4.7       7.70      10.5  \n",
       "Salary           65237.0  100544.75  122391.0  "
      ]
     },
     "execution_count": 10,
     "metadata": {},
     "output_type": "execute_result"
    }
   ],
   "source": [
    "df.describe().T"
   ]
  },
  {
   "cell_type": "markdown",
   "id": "bridal-israeli",
   "metadata": {
    "papermill": {
     "duration": 0.047935,
     "end_time": "2021-05-30T03:41:34.260097",
     "exception": false,
     "start_time": "2021-05-30T03:41:34.212162",
     "status": "completed"
    },
    "tags": []
   },
   "source": [
    "- There are no more data we have, I think it is a sample of a big dataset and now we didn't need to scaling the data. "
   ]
  },
  {
   "cell_type": "code",
   "execution_count": 11,
   "id": "miniature-better",
   "metadata": {
    "execution": {
     "iopub.execute_input": "2021-05-30T03:41:34.485722Z",
     "iopub.status.busy": "2021-05-30T03:41:34.484949Z",
     "iopub.status.idle": "2021-05-30T03:41:34.674741Z",
     "shell.execute_reply": "2021-05-30T03:41:34.674084Z",
     "shell.execute_reply.started": "2021-05-22T11:29:48.656469Z"
    },
    "papermill": {
     "duration": 0.259714,
     "end_time": "2021-05-30T03:41:34.674893",
     "exception": false,
     "start_time": "2021-05-30T03:41:34.415179",
     "status": "completed"
    },
    "tags": []
   },
   "outputs": [
    {
     "data": {
      "image/png": "[encoded data removed]",
      "text/plain": [
       "<Figure size 500x500 with 1 Axes>"
      ]
     },
     "metadata": {},
     "output_type": "display_data"
    }
   ],
   "source": [
    "# Outlier Analysis\n",
    "\n",
    "fig, axs = plt.subplots(1, figsize = (5,5))\n",
    "plt1 = sns.boxplot(df['YearsExperience'])\n",
    "plt.tight_layout()"
   ]
  },
  {
   "cell_type": "markdown",
   "id": "laden-switzerland",
   "metadata": {
    "papermill": {
     "duration": 0.047839,
     "end_time": "2021-05-30T03:41:34.771021",
     "exception": false,
     "start_time": "2021-05-30T03:41:34.723182",
     "status": "completed"
    },
    "tags": []
   },
   "source": [
    "- We can see there is no more outlier in the column"
   ]
  },
  {
   "cell_type": "code",
   "execution_count": 12,
   "id": "irish-replacement",
   "metadata": {
    "execution": {
     "iopub.execute_input": "2021-05-30T03:41:34.875476Z",
     "iopub.status.busy": "2021-05-30T03:41:34.874815Z",
     "iopub.status.idle": "2021-05-30T03:41:34.877652Z",
     "shell.execute_reply": "2021-05-30T03:41:34.878188Z",
     "shell.execute_reply.started": "2021-05-22T11:29:48.815116Z"
    },
    "papermill": {
     "duration": 0.058802,
     "end_time": "2021-05-30T03:41:34.878353",
     "exception": false,
     "start_time": "2021-05-30T03:41:34.819551",
     "status": "completed"
    },
    "tags": []
   },
   "outputs": [
    {
     "data": {
      "text/plain": [
       "YearsExperience    0\n",
       "Salary             0\n",
       "dtype: int64"
      ]
     },
     "execution_count": 12,
     "metadata": {},
     "output_type": "execute_result"
    }
   ],
   "source": [
    "# Checking the Null Values in the Data. \n",
    "\n",
    "df.isnull().sum()"
   ]
  },
  {
   "cell_type": "code",
   "execution_count": 13,
   "id": "logical-america",
   "metadata": {
    "execution": {
     "iopub.execute_input": "2021-05-30T03:41:34.979277Z",
     "iopub.status.busy": "2021-05-30T03:41:34.978637Z",
     "iopub.status.idle": "2021-05-30T03:41:35.003228Z",
     "shell.execute_reply": "2021-05-30T03:41:35.002583Z",
     "shell.execute_reply.started": "2021-05-22T11:29:48.82943Z"
    },
    "papermill": {
     "duration": 0.07573,
     "end_time": "2021-05-30T03:41:35.003367",
     "exception": false,
     "start_time": "2021-05-30T03:41:34.927637",
     "status": "completed"
    },
    "tags": []
   },
   "outputs": [
    {
     "data": {
      "text/plain": [
       "YearsExperience    0\n",
       "Salary             0\n",
       "dtype: int64"
      ]
     },
     "execution_count": 13,
     "metadata": {},
     "output_type": "execute_result"
    }
   ],
   "source": [
    "# Checking zero values in the data. \n",
    "\n",
    "(df == 0).sum()   "
   ]
  },
  {
   "cell_type": "code",
   "execution_count": 14,
   "id": "russian-scotland",
   "metadata": {
    "execution": {
     "iopub.execute_input": "2021-05-30T03:41:35.109189Z",
     "iopub.status.busy": "2021-05-30T03:41:35.108535Z",
     "iopub.status.idle": "2021-05-30T03:41:35.112052Z",
     "shell.execute_reply": "2021-05-30T03:41:35.112621Z",
     "shell.execute_reply.started": "2021-05-22T11:29:48.84077Z"
    },
    "papermill": {
     "duration": 0.060264,
     "end_time": "2021-05-30T03:41:35.112792",
     "exception": false,
     "start_time": "2021-05-30T03:41:35.052528",
     "status": "completed"
    },
    "tags": []
   },
   "outputs": [
    {
     "data": {
      "text/plain": [
       "Salary\n",
       "39343     1\n",
       "46205     1\n",
       "122391    1\n",
       "112635    1\n",
       "116969    1\n",
       "105582    1\n",
       "109431    1\n",
       "113812    1\n",
       "101302    1\n",
       "98273     1\n",
       "91738     1\n",
       "93940     1\n",
       "81363     1\n",
       "83088     1\n",
       "66029     1\n",
       "67938     1\n",
       "61111     1\n",
       "57081     1\n",
       "56957     1\n",
       "55794     1\n",
       "63218     1\n",
       "57189     1\n",
       "64445     1\n",
       "54445     1\n",
       "60150     1\n",
       "56642     1\n",
       "39891     1\n",
       "43525     1\n",
       "37731     1\n",
       "121872    1\n",
       "Name: count, dtype: int64"
      ]
     },
     "execution_count": 14,
     "metadata": {},
     "output_type": "execute_result"
    }
   ],
   "source": [
    "df.Salary.value_counts()"
   ]
  },
  {
   "cell_type": "code",
   "execution_count": 15,
   "id": "acb6acb6",
   "metadata": {},
   "outputs": [
    {
     "data": {
      "text/plain": [
       "Salary\n",
       "39343     1\n",
       "46205     1\n",
       "122391    1\n",
       "112635    1\n",
       "116969    1\n",
       "105582    1\n",
       "109431    1\n",
       "113812    1\n",
       "101302    1\n",
       "98273     1\n",
       "91738     1\n",
       "93940     1\n",
       "81363     1\n",
       "83088     1\n",
       "66029     1\n",
       "67938     1\n",
       "61111     1\n",
       "57081     1\n",
       "56957     1\n",
       "55794     1\n",
       "63218     1\n",
       "57189     1\n",
       "64445     1\n",
       "54445     1\n",
       "60150     1\n",
       "56642     1\n",
       "39891     1\n",
       "43525     1\n",
       "37731     1\n",
       "121872    1\n",
       "Name: count, dtype: int64"
      ]
     },
     "execution_count": 15,
     "metadata": {},
     "output_type": "execute_result"
    }
   ],
   "source": [
    "df[\"Salary\"].value_counts()"
   ]
  },
  {
   "cell_type": "code",
   "execution_count": 16,
   "id": "dynamic-revolution",
   "metadata": {
    "execution": {
     "iopub.execute_input": "2021-05-30T03:41:35.214056Z",
     "iopub.status.busy": "2021-05-30T03:41:35.213448Z",
     "iopub.status.idle": "2021-05-30T03:41:35.219943Z",
     "shell.execute_reply": "2021-05-30T03:41:35.220443Z",
     "shell.execute_reply.started": "2021-05-22T11:29:48.853664Z"
    },
    "papermill": {
     "duration": 0.058524,
     "end_time": "2021-05-30T03:41:35.220623",
     "exception": false,
     "start_time": "2021-05-30T03:41:35.162099",
     "status": "completed"
    },
    "tags": []
   },
   "outputs": [
    {
     "data": {
      "text/plain": [
       "30"
      ]
     },
     "execution_count": 16,
     "metadata": {},
     "output_type": "execute_result"
    }
   ],
   "source": [
    "df.Salary.value_counts().sum()     #Total Unique Values in the Data. "
   ]
  },
  {
   "cell_type": "markdown",
   "id": "located-joshua",
   "metadata": {
    "papermill": {
     "duration": 0.049392,
     "end_time": "2021-05-30T03:41:35.421463",
     "exception": false,
     "start_time": "2021-05-30T03:41:35.372071",
     "status": "completed"
    },
    "tags": []
   },
   "source": [
    "## Analysis of Co-Relation using Visualization "
   ]
  },
  {
   "cell_type": "code",
   "execution_count": 17,
   "id": "popular-living",
   "metadata": {
    "execution": {
     "iopub.execute_input": "2021-05-30T03:41:35.553084Z",
     "iopub.status.busy": "2021-05-30T03:41:35.547201Z",
     "iopub.status.idle": "2021-05-30T03:41:35.776553Z",
     "shell.execute_reply": "2021-05-30T03:41:35.777082Z",
     "shell.execute_reply.started": "2021-05-22T11:29:48.865122Z"
    },
    "papermill": {
     "duration": 0.305479,
     "end_time": "2021-05-30T03:41:35.777272",
     "exception": false,
     "start_time": "2021-05-30T03:41:35.471793",
     "status": "completed"
    },
    "scrolled": false,
    "tags": []
   },
   "outputs": [
    {
     "data": {
      "image/png": "[encoded data removed]",
      "text/plain": [
       "<Figure size 500x500 with 2 Axes>"
      ]
     },
     "metadata": {},
     "output_type": "display_data"
    }
   ],
   "source": [
    "corrmat = df.corr()                        #pariwise correlation of all the columns \n",
    "top_corr_features = corrmat.index                    \n",
    "plt.figure(figsize = (5,5))\n",
    "\n",
    "#heatmap of the data\n",
    "\n",
    "g = sns.heatmap(df[corrmat.index].corr(),annot = True, cmap=\"RdYlGn\") # annot present values in the blocks. cmap = colormap \n",
    "\n",
    "# g = sns.heatmap(df[top_corr_features].corr(),annot = True, cmap=\"RdYlGn\") "
   ]
  },
  {
   "cell_type": "code",
   "execution_count": null,
   "id": "8e05e012",
   "metadata": {},
   "outputs": [],
   "source": []
  },
  {
   "cell_type": "code",
   "execution_count": 18,
   "id": "harmful-texas",
   "metadata": {
    "execution": {
     "iopub.execute_input": "2021-05-30T03:41:35.889380Z",
     "iopub.status.busy": "2021-05-30T03:41:35.888439Z",
     "iopub.status.idle": "2021-05-30T03:41:35.892698Z",
     "shell.execute_reply": "2021-05-30T03:41:35.892201Z",
     "shell.execute_reply.started": "2021-05-22T11:29:49.099983Z"
    },
    "papermill": {
     "duration": 0.064531,
     "end_time": "2021-05-30T03:41:35.892836",
     "exception": false,
     "start_time": "2021-05-30T03:41:35.828305",
     "status": "completed"
    },
    "tags": []
   },
   "outputs": [
    {
     "data": {
      "text/html": [
       "<div>\n",
       "<style scoped>\n",
       "    .dataframe tbody tr th:only-of-type {\n",
       "        vertical-align: middle;\n",
       "    }\n",
       "\n",
       "    .dataframe tbody tr th {\n",
       "        vertical-align: top;\n",
       "    }\n",
       "\n",
       "    .dataframe thead th {\n",
       "        text-align: right;\n",
       "    }\n",
       "</style>\n",
       "<table border=\"1\" class=\"dataframe\">\n",
       "  <thead>\n",
       "    <tr style=\"text-align: right;\">\n",
       "      <th></th>\n",
       "      <th>YearsExperience</th>\n",
       "      <th>Salary</th>\n",
       "    </tr>\n",
       "  </thead>\n",
       "  <tbody>\n",
       "    <tr>\n",
       "      <th>YearsExperience</th>\n",
       "      <td>1.000000</td>\n",
       "      <td>0.978242</td>\n",
       "    </tr>\n",
       "    <tr>\n",
       "      <th>Salary</th>\n",
       "      <td>0.978242</td>\n",
       "      <td>1.000000</td>\n",
       "    </tr>\n",
       "  </tbody>\n",
       "</table>\n",
       "</div>"
      ],
      "text/plain": [
       "                 YearsExperience    Salary\n",
       "YearsExperience         1.000000  0.978242\n",
       "Salary                  0.978242  1.000000"
      ]
     },
     "execution_count": 18,
     "metadata": {},
     "output_type": "execute_result"
    }
   ],
   "source": [
    "# pd.set_option('precision', 2)         # 2 values after precision. \n",
    "\n",
    "df.corr()   #Correlation between Variables."
   ]
  },
  {
   "cell_type": "code",
   "execution_count": 19,
   "id": "square-syndicate",
   "metadata": {
    "execution": {
     "iopub.execute_input": "2021-05-30T03:41:35.997569Z",
     "iopub.status.busy": "2021-05-30T03:41:35.996632Z",
     "iopub.status.idle": "2021-05-30T03:41:37.001229Z",
     "shell.execute_reply": "2021-05-30T03:41:37.000664Z",
     "shell.execute_reply.started": "2021-05-22T11:29:49.110714Z"
    },
    "papermill": {
     "duration": 1.057916,
     "end_time": "2021-05-30T03:41:37.001370",
     "exception": false,
     "start_time": "2021-05-30T03:41:35.943454",
     "status": "completed"
    },
    "scrolled": false,
    "tags": []
   },
   "outputs": [
    {
     "data": {
      "text/plain": [
       "<seaborn.axisgrid.PairGrid at 0x1699edac0>"
      ]
     },
     "execution_count": 19,
     "metadata": {},
     "output_type": "execute_result"
    },
    {
     "data": {
      "image/png": "[encoded data removed]",
      "text/plain": [
       "<Figure size 500x500 with 6 Axes>"
      ]
     },
     "metadata": {},
     "output_type": "display_data"
    }
   ],
   "source": [
    "import seaborn as sns\n",
    "sns.pairplot(df)"
   ]
  },
  {
   "cell_type": "code",
   "execution_count": 20,
   "id": "honey-twins",
   "metadata": {
    "execution": {
     "iopub.execute_input": "2021-05-30T03:41:37.139675Z",
     "iopub.status.busy": "2021-05-30T03:41:37.130201Z",
     "iopub.status.idle": "2021-05-30T03:41:37.251657Z",
     "shell.execute_reply": "2021-05-30T03:41:37.252150Z",
     "shell.execute_reply.started": "2021-05-22T11:29:50.030321Z"
    },
    "papermill": {
     "duration": 0.198649,
     "end_time": "2021-05-30T03:41:37.252321",
     "exception": false,
     "start_time": "2021-05-30T03:41:37.053672",
     "status": "completed"
    },
    "tags": []
   },
   "outputs": [
    {
     "data": {
      "image/png": "[encoded data removed]",
      "text/plain": [
       "<Figure size 600x600 with 1 Axes>"
      ]
     },
     "metadata": {},
     "output_type": "display_data"
    },
    {
     "data": {
      "text/plain": [
       "2"
      ]
     },
     "execution_count": 20,
     "metadata": {},
     "output_type": "execute_result"
    }
   ],
   "source": [
    "\n",
    "X = df['YearsExperience']\n",
    "y = df['Salary']  \n",
    "\n",
    "plt.figure(figsize=(6,6))\n",
    "\n",
    "plt.scatter(X, y, label = \"label_name\" )\n",
    "\n",
    "# Set x and y axes labels\n",
    "plt.xlabel('YearsExperience')\n",
    "plt.ylabel('Salary')\n",
    "\n",
    "plt.title('Scatter Plot')\n",
    "\n",
    "plt.show()\n",
    "2\n"
   ]
  },
  {
   "cell_type": "code",
   "execution_count": null,
   "id": "accomplished-identification",
   "metadata": {
    "execution": {
     "iopub.execute_input": "2021-05-30T03:41:37.362377Z",
     "iopub.status.busy": "2021-05-30T03:41:37.361734Z",
     "iopub.status.idle": "2021-05-30T03:41:37.512350Z",
     "shell.execute_reply": "2021-05-30T03:41:37.512806Z",
     "shell.execute_reply.started": "2021-05-22T11:29:50.162184Z"
    },
    "papermill": {
     "duration": 0.207268,
     "end_time": "2021-05-30T03:41:37.512991",
     "exception": false,
     "start_time": "2021-05-30T03:41:37.305723",
     "status": "completed"
    },
    "tags": []
   },
   "outputs": [],
   "source": [
    "sns.regplot(x=df['YearsExperience'], y=df['Salary'], order=1, ci=None, scatter_kws={'color':'r', 's':9})\n",
    "\n",
    "plt.xlim(2, 10)\n",
    "plt.ylim(bottom=30000)\n",
    "\n",
    "plt.show()\n"
   ]
  },
  {
   "cell_type": "code",
   "execution_count": null,
   "id": "individual-startup",
   "metadata": {
    "papermill": {
     "duration": 0.053948,
     "end_time": "2021-05-30T03:41:37.620707",
     "exception": false,
     "start_time": "2021-05-30T03:41:37.566759",
     "status": "completed"
    },
    "tags": []
   },
   "outputs": [],
   "source": []
  },
  {
   "cell_type": "markdown",
   "id": "unsigned-taste",
   "metadata": {
    "papermill": {
     "duration": 0.053902,
     "end_time": "2021-05-30T03:41:37.728501",
     "exception": false,
     "start_time": "2021-05-30T03:41:37.674599",
     "status": "completed"
    },
    "tags": []
   },
   "source": [
    "# Linear Regression using Classical Methods"
   ]
  },
  {
   "cell_type": "code",
   "execution_count": 21,
   "id": "affecting-nursery",
   "metadata": {
    "execution": {
     "iopub.execute_input": "2021-05-30T03:41:37.851916Z",
     "iopub.status.busy": "2021-05-30T03:41:37.850974Z",
     "iopub.status.idle": "2021-05-30T03:41:37.855941Z",
     "shell.execute_reply": "2021-05-30T03:41:37.855366Z",
     "shell.execute_reply.started": "2021-05-22T11:29:50.304116Z"
    },
    "papermill": {
     "duration": 0.072288,
     "end_time": "2021-05-30T03:41:37.856091",
     "exception": false,
     "start_time": "2021-05-30T03:41:37.783803",
     "status": "completed"
    },
    "tags": []
   },
   "outputs": [
    {
     "data": {
      "text/html": [
       "<div>\n",
       "<style scoped>\n",
       "    .dataframe tbody tr th:only-of-type {\n",
       "        vertical-align: middle;\n",
       "    }\n",
       "\n",
       "    .dataframe tbody tr th {\n",
       "        vertical-align: top;\n",
       "    }\n",
       "\n",
       "    .dataframe thead th {\n",
       "        text-align: right;\n",
       "    }\n",
       "</style>\n",
       "<table border=\"1\" class=\"dataframe\">\n",
       "  <thead>\n",
       "    <tr style=\"text-align: right;\">\n",
       "      <th></th>\n",
       "      <th>YearsExperience as X</th>\n",
       "      <th>Salary as Y</th>\n",
       "    </tr>\n",
       "  </thead>\n",
       "  <tbody>\n",
       "    <tr>\n",
       "      <th>0</th>\n",
       "      <td>1.1</td>\n",
       "      <td>39343</td>\n",
       "    </tr>\n",
       "    <tr>\n",
       "      <th>1</th>\n",
       "      <td>1.3</td>\n",
       "      <td>46205</td>\n",
       "    </tr>\n",
       "    <tr>\n",
       "      <th>2</th>\n",
       "      <td>1.5</td>\n",
       "      <td>37731</td>\n",
       "    </tr>\n",
       "    <tr>\n",
       "      <th>3</th>\n",
       "      <td>2.0</td>\n",
       "      <td>43525</td>\n",
       "    </tr>\n",
       "    <tr>\n",
       "      <th>4</th>\n",
       "      <td>2.2</td>\n",
       "      <td>39891</td>\n",
       "    </tr>\n",
       "    <tr>\n",
       "      <th>5</th>\n",
       "      <td>2.9</td>\n",
       "      <td>56642</td>\n",
       "    </tr>\n",
       "    <tr>\n",
       "      <th>6</th>\n",
       "      <td>3.0</td>\n",
       "      <td>60150</td>\n",
       "    </tr>\n",
       "    <tr>\n",
       "      <th>7</th>\n",
       "      <td>3.2</td>\n",
       "      <td>54445</td>\n",
       "    </tr>\n",
       "    <tr>\n",
       "      <th>8</th>\n",
       "      <td>3.2</td>\n",
       "      <td>64445</td>\n",
       "    </tr>\n",
       "    <tr>\n",
       "      <th>9</th>\n",
       "      <td>3.7</td>\n",
       "      <td>57189</td>\n",
       "    </tr>\n",
       "  </tbody>\n",
       "</table>\n",
       "</div>"
      ],
      "text/plain": [
       "   YearsExperience as X  Salary as Y \n",
       "0                   1.1         39343\n",
       "1                   1.3         46205\n",
       "2                   1.5         37731\n",
       "3                   2.0         43525\n",
       "4                   2.2         39891\n",
       "5                   2.9         56642\n",
       "6                   3.0         60150\n",
       "7                   3.2         54445\n",
       "8                   3.2         64445\n",
       "9                   3.7         57189"
      ]
     },
     "execution_count": 21,
     "metadata": {},
     "output_type": "execute_result"
    }
   ],
   "source": [
    "df1 = pd.DataFrame({'YearsExperience as X': df['YearsExperience'], 'Salary as Y ':df['Salary'] })   \n",
    "df1.head(10)"
   ]
  },
  {
   "cell_type": "code",
   "execution_count": 22,
   "id": "lyric-chosen",
   "metadata": {
    "execution": {
     "iopub.execute_input": "2021-05-30T03:41:37.971171Z",
     "iopub.status.busy": "2021-05-30T03:41:37.970428Z",
     "iopub.status.idle": "2021-05-30T03:41:37.977279Z",
     "shell.execute_reply": "2021-05-30T03:41:37.977854Z",
     "shell.execute_reply.started": "2021-05-22T11:29:50.317879Z"
    },
    "papermill": {
     "duration": 0.066685,
     "end_time": "2021-05-30T03:41:37.978059",
     "exception": false,
     "start_time": "2021-05-30T03:41:37.911374",
     "status": "completed"
    },
    "tags": []
   },
   "outputs": [
    {
     "name": "stdout",
     "output_type": "stream",
     "text": [
      "5.31 76003.0\n"
     ]
    }
   ],
   "source": [
    "# Calculating the mean of X and Y \n",
    "\n",
    "mean_x = df['YearsExperience'].sum() / df['YearsExperience'].count()  \n",
    "round(mean_x,2) \n",
    "\n",
    "mean_y = df['Salary'].sum() / df['Salary'].count()   \n",
    "round(mean_y,2) \n",
    "\n",
    "print(round(mean_x,2) , round(mean_y,2))"
   ]
  },
  {
   "cell_type": "code",
   "execution_count": 23,
   "id": "spanish-observation",
   "metadata": {
    "execution": {
     "iopub.execute_input": "2021-05-30T03:41:38.094818Z",
     "iopub.status.busy": "2021-05-30T03:41:38.094117Z",
     "iopub.status.idle": "2021-05-30T03:41:38.099828Z",
     "shell.execute_reply": "2021-05-30T03:41:38.100357Z",
     "shell.execute_reply.started": "2021-05-22T11:29:50.329671Z"
    },
    "papermill": {
     "duration": 0.065412,
     "end_time": "2021-05-30T03:41:38.100587",
     "exception": false,
     "start_time": "2021-05-30T03:41:38.035175",
     "status": "completed"
    },
    "tags": []
   },
   "outputs": [],
   "source": [
    "X = df['YearsExperience'].values          \n",
    "Y = df['Salary'].values \n",
    "n = len(X)\n",
    "\n",
    "\n",
    "# Using the formula to calculate m and c\n",
    "\n",
    "numer = 0\n",
    "denom = 0\n",
    "for i in range(n):\n",
    "    numer += (X[i] - mean_x) * (Y[i] - mean_y)\n",
    "    denom += (X[i] - mean_x) ** 2\n",
    "    m = numer / denom\n",
    "    c = mean_y - (m * mean_x)"
   ]
  },
  {
   "cell_type": "code",
   "execution_count": 24,
   "id": "3ce751d3",
   "metadata": {},
   "outputs": [
    {
     "data": {
      "text/plain": [
       "30"
      ]
     },
     "execution_count": 24,
     "metadata": {},
     "output_type": "execute_result"
    }
   ],
   "source": [
    "len(Y)"
   ]
  },
  {
   "cell_type": "code",
   "execution_count": 25,
   "id": "raising-champagne",
   "metadata": {
    "execution": {
     "iopub.execute_input": "2021-05-30T03:41:38.215393Z",
     "iopub.status.busy": "2021-05-30T03:41:38.214653Z",
     "iopub.status.idle": "2021-05-30T03:41:38.221127Z",
     "shell.execute_reply": "2021-05-30T03:41:38.220591Z",
     "shell.execute_reply.started": "2021-05-22T11:29:50.340704Z"
    },
    "papermill": {
     "duration": 0.064963,
     "end_time": "2021-05-30T03:41:38.221290",
     "exception": false,
     "start_time": "2021-05-30T03:41:38.156327",
     "status": "completed"
    },
    "tags": []
   },
   "outputs": [
    {
     "data": {
      "text/plain": [
       "9449.962321455077"
      ]
     },
     "execution_count": 25,
     "metadata": {},
     "output_type": "execute_result"
    }
   ],
   "source": [
    "m"
   ]
  },
  {
   "cell_type": "code",
   "execution_count": 26,
   "id": "supreme-snowboard",
   "metadata": {
    "execution": {
     "iopub.execute_input": "2021-05-30T03:41:38.339406Z",
     "iopub.status.busy": "2021-05-30T03:41:38.338444Z",
     "iopub.status.idle": "2021-05-30T03:41:38.343717Z",
     "shell.execute_reply": "2021-05-30T03:41:38.343086Z",
     "shell.execute_reply.started": "2021-05-22T11:29:50.353628Z"
    },
    "papermill": {
     "duration": 0.066686,
     "end_time": "2021-05-30T03:41:38.343875",
     "exception": false,
     "start_time": "2021-05-30T03:41:38.277189",
     "status": "completed"
    },
    "tags": []
   },
   "outputs": [
    {
     "data": {
      "text/plain": [
       "25792.20019866869"
      ]
     },
     "execution_count": 26,
     "metadata": {},
     "output_type": "execute_result"
    }
   ],
   "source": [
    "c"
   ]
  },
  {
   "cell_type": "markdown",
   "id": "breeding-royalty",
   "metadata": {
    "papermill": {
     "duration": 0.056145,
     "end_time": "2021-05-30T03:41:38.455801",
     "exception": false,
     "start_time": "2021-05-30T03:41:38.399656",
     "status": "completed"
    },
    "tags": []
   },
   "source": [
    "Y = m * x + c "
   ]
  },
  {
   "cell_type": "code",
   "execution_count": 27,
   "id": "supported-consultancy",
   "metadata": {
    "execution": {
     "iopub.execute_input": "2021-05-30T03:41:38.572291Z",
     "iopub.status.busy": "2021-05-30T03:41:38.571600Z",
     "iopub.status.idle": "2021-05-30T03:41:38.574645Z",
     "shell.execute_reply": "2021-05-30T03:41:38.575114Z",
     "shell.execute_reply.started": "2021-05-22T11:29:50.367641Z"
    },
    "papermill": {
     "duration": 0.063728,
     "end_time": "2021-05-30T03:41:38.575293",
     "exception": false,
     "start_time": "2021-05-30T03:41:38.511565",
     "status": "completed"
    },
    "tags": []
   },
   "outputs": [],
   "source": [
    "Y = m * 1.3 + c  "
   ]
  },
  {
   "cell_type": "code",
   "execution_count": 28,
   "id": "spoken-potato",
   "metadata": {
    "execution": {
     "iopub.execute_input": "2021-05-30T03:41:38.691718Z",
     "iopub.status.busy": "2021-05-30T03:41:38.690864Z",
     "iopub.status.idle": "2021-05-30T03:41:38.696519Z",
     "shell.execute_reply": "2021-05-30T03:41:38.695878Z",
     "shell.execute_reply.started": "2021-05-22T11:29:50.377388Z"
    },
    "papermill": {
     "duration": 0.066218,
     "end_time": "2021-05-30T03:41:38.696667",
     "exception": false,
     "start_time": "2021-05-30T03:41:38.630449",
     "status": "completed"
    },
    "tags": []
   },
   "outputs": [
    {
     "data": {
      "text/plain": [
       "38077.15121656029"
      ]
     },
     "execution_count": 28,
     "metadata": {},
     "output_type": "execute_result"
    }
   ],
   "source": [
    "Y"
   ]
  },
  {
   "cell_type": "code",
   "execution_count": null,
   "id": "boolean-hollywood",
   "metadata": {
    "papermill": {
     "duration": 0.055123,
     "end_time": "2021-05-30T03:41:38.807441",
     "exception": false,
     "start_time": "2021-05-30T03:41:38.752318",
     "status": "completed"
    },
    "tags": []
   },
   "outputs": [],
   "source": []
  },
  {
   "cell_type": "markdown",
   "id": "domestic-bookmark",
   "metadata": {
    "papermill": {
     "duration": 0.055288,
     "end_time": "2021-05-30T03:41:38.918127",
     "exception": false,
     "start_time": "2021-05-30T03:41:38.862839",
     "status": "completed"
    },
    "tags": []
   },
   "source": [
    "## Linear Regression using Methods"
   ]
  },
  {
   "cell_type": "code",
   "execution_count": null,
   "id": "114a4bfa",
   "metadata": {},
   "outputs": [],
   "source": []
  },
  {
   "cell_type": "code",
   "execution_count": 29,
   "id": "difficult-operation",
   "metadata": {
    "execution": {
     "iopub.execute_input": "2021-05-30T03:41:39.035278Z",
     "iopub.status.busy": "2021-05-30T03:41:39.034599Z",
     "iopub.status.idle": "2021-05-30T03:41:39.354867Z",
     "shell.execute_reply": "2021-05-30T03:41:39.354330Z",
     "shell.execute_reply.started": "2021-05-22T11:29:50.39177Z"
    },
    "papermill": {
     "duration": 0.380582,
     "end_time": "2021-05-30T03:41:39.355030",
     "exception": false,
     "start_time": "2021-05-30T03:41:38.974448",
     "status": "completed"
    },
    "tags": []
   },
   "outputs": [
    {
     "data": {
      "text/html": [
       "<style>#sk-container-id-1 {color: black;}#sk-container-id-1 pre{padding: 0;}#sk-container-id-1 div.sk-toggleable {background-color: white;}#sk-container-id-1 label.sk-toggleable__label {cursor: pointer;display: block;width: 100%;margin-bottom: 0;padding: 0.3em;box-sizing: border-box;text-align: center;}#sk-container-id-1 label.sk-toggleable__label-arrow:before {content: \"▸\";float: left;margin-right: 0.25em;color: #696969;}#sk-container-id-1 label.sk-toggleable__label-arrow:hover:before {color: black;}#sk-container-id-1 div.sk-estimator:hover label.sk-toggleable__label-arrow:before {color: black;}#sk-container-id-1 div.sk-toggleable__content {max-height: 0;max-width: 0;overflow: hidden;text-align: left;background-color: #f0f8ff;}#sk-container-id-1 div.sk-toggleable__content pre {margin: 0.2em;color: black;border-radius: 0.25em;background-color: #f0f8ff;}#sk-container-id-1 input.sk-toggleable__control:checked~div.sk-toggleable__content {max-height: 200px;max-width: 100%;overflow: auto;}#sk-container-id-1 input.sk-toggleable__control:checked~label.sk-toggleable__label-arrow:before {content: \"▾\";}#sk-container-id-1 div.sk-estimator input.sk-toggleable__control:checked~label.sk-toggleable__label {background-color: #d4ebff;}#sk-container-id-1 div.sk-label input.sk-toggleable__control:checked~label.sk-toggleable__label {background-color: #d4ebff;}#sk-container-id-1 input.sk-hidden--visually {border: 0;clip: rect(1px 1px 1px 1px);clip: rect(1px, 1px, 1px, 1px);height: 1px;margin: -1px;overflow: hidden;padding: 0;position: absolute;width: 1px;}#sk-container-id-1 div.sk-estimator {font-family: monospace;background-color: #f0f8ff;border: 1px dotted black;border-radius: 0.25em;box-sizing: border-box;margin-bottom: 0.5em;}#sk-container-id-1 div.sk-estimator:hover {background-color: #d4ebff;}#sk-container-id-1 div.sk-parallel-item::after {content: \"\";width: 100%;border-bottom: 1px solid gray;flex-grow: 1;}#sk-container-id-1 div.sk-label:hover label.sk-toggleable__label {background-color: #d4ebff;}#sk-container-id-1 div.sk-serial::before {content: \"\";position: absolute;border-left: 1px solid gray;box-sizing: border-box;top: 0;bottom: 0;left: 50%;z-index: 0;}#sk-container-id-1 div.sk-serial {display: flex;flex-direction: column;align-items: center;background-color: white;padding-right: 0.2em;padding-left: 0.2em;position: relative;}#sk-container-id-1 div.sk-item {position: relative;z-index: 1;}#sk-container-id-1 div.sk-parallel {display: flex;align-items: stretch;justify-content: center;background-color: white;position: relative;}#sk-container-id-1 div.sk-item::before, #sk-container-id-1 div.sk-parallel-item::before {content: \"\";position: absolute;border-left: 1px solid gray;box-sizing: border-box;top: 0;bottom: 0;left: 50%;z-index: -1;}#sk-container-id-1 div.sk-parallel-item {display: flex;flex-direction: column;z-index: 1;position: relative;background-color: white;}#sk-container-id-1 div.sk-parallel-item:first-child::after {align-self: flex-end;width: 50%;}#sk-container-id-1 div.sk-parallel-item:last-child::after {align-self: flex-start;width: 50%;}#sk-container-id-1 div.sk-parallel-item:only-child::after {width: 0;}#sk-container-id-1 div.sk-dashed-wrapped {border: 1px dashed gray;margin: 0 0.4em 0.5em 0.4em;box-sizing: border-box;padding-bottom: 0.4em;background-color: white;}#sk-container-id-1 div.sk-label label {font-family: monospace;font-weight: bold;display: inline-block;line-height: 1.2em;}#sk-container-id-1 div.sk-label-container {text-align: center;}#sk-container-id-1 div.sk-container {/* jupyter's `normalize.less` sets `[hidden] { display: none; }` but bootstrap.min.css set `[hidden] { display: none !important; }` so we also need the `!important` here to be able to override the default hidden behavior on the sphinx rendered scikit-learn.org. See: https://github.com/scikit-learn/scikit-learn/issues/21755 */display: inline-block !important;position: relative;}#sk-container-id-1 div.sk-text-repr-fallback {display: none;}</style><div id=\"sk-container-id-1\" class=\"sk-top-container\"><div class=\"sk-text-repr-fallback\"><pre>LinearRegression()</pre><b>In a Jupyter environment, please rerun this cell to show the HTML representation or trust the notebook. <br />On GitHub, the HTML representation is unable to render, please try loading this page with nbviewer.org.</b></div><div class=\"sk-container\" hidden><div class=\"sk-item\"><div class=\"sk-estimator sk-toggleable\"><input class=\"sk-toggleable__control sk-hidden--visually\" id=\"sk-estimator-id-1\" type=\"checkbox\" checked><label for=\"sk-estimator-id-1\" class=\"sk-toggleable__label sk-toggleable__label-arrow\">LinearRegression</label><div class=\"sk-toggleable__content\"><pre>LinearRegression()</pre></div></div></div></div></div>"
      ],
      "text/plain": [
       "LinearRegression()"
      ]
     },
     "execution_count": 29,
     "metadata": {},
     "output_type": "execute_result"
    }
   ],
   "source": [
    "import sklearn.linear_model as skl_lm\n",
    "from sklearn.linear_model import LinearRegression\n",
    "\n",
    "regr = skl_lm.LinearRegression()\n",
    "X = df.YearsExperience.values.reshape(-1,1)\n",
    "y = df.Salary\n",
    "\n",
    "regr.fit(X,y)"
   ]
  },
  {
   "cell_type": "code",
   "execution_count": 30,
   "id": "employed-store",
   "metadata": {
    "execution": {
     "iopub.execute_input": "2021-05-30T03:41:39.472507Z",
     "iopub.status.busy": "2021-05-30T03:41:39.471815Z",
     "iopub.status.idle": "2021-05-30T03:41:39.475900Z",
     "shell.execute_reply": "2021-05-30T03:41:39.475348Z",
     "shell.execute_reply.started": "2021-05-22T11:29:50.406002Z"
    },
    "papermill": {
     "duration": 0.065087,
     "end_time": "2021-05-30T03:41:39.476069",
     "exception": false,
     "start_time": "2021-05-30T03:41:39.410982",
     "status": "completed"
    },
    "tags": []
   },
   "outputs": [
    {
     "data": {
      "text/plain": [
       "25792.20019866871"
      ]
     },
     "execution_count": 30,
     "metadata": {},
     "output_type": "execute_result"
    }
   ],
   "source": [
    "regr.intercept_"
   ]
  },
  {
   "cell_type": "code",
   "execution_count": 31,
   "id": "technological-duration",
   "metadata": {
    "execution": {
     "iopub.execute_input": "2021-05-30T03:41:39.595134Z",
     "iopub.status.busy": "2021-05-30T03:41:39.594243Z",
     "iopub.status.idle": "2021-05-30T03:41:39.598078Z",
     "shell.execute_reply": "2021-05-30T03:41:39.598526Z",
     "shell.execute_reply.started": "2021-05-22T11:29:50.423646Z"
    },
    "papermill": {
     "duration": 0.065321,
     "end_time": "2021-05-30T03:41:39.598713",
     "exception": false,
     "start_time": "2021-05-30T03:41:39.533392",
     "status": "completed"
    },
    "tags": []
   },
   "outputs": [
    {
     "data": {
      "text/plain": [
       "array([9449.96232146])"
      ]
     },
     "execution_count": 31,
     "metadata": {},
     "output_type": "execute_result"
    }
   ],
   "source": [
    "regr.coef_"
   ]
  },
  {
   "cell_type": "code",
   "execution_count": 32,
   "id": "governmental-bibliography",
   "metadata": {
    "execution": {
     "iopub.execute_input": "2021-05-30T03:41:39.719471Z",
     "iopub.status.busy": "2021-05-30T03:41:39.718766Z",
     "iopub.status.idle": "2021-05-30T03:41:39.723209Z",
     "shell.execute_reply": "2021-05-30T03:41:39.722612Z",
     "shell.execute_reply.started": "2021-05-22T11:29:50.438208Z"
    },
    "papermill": {
     "duration": 0.066722,
     "end_time": "2021-05-30T03:41:39.723344",
     "exception": false,
     "start_time": "2021-05-30T03:41:39.656622",
     "status": "completed"
    },
    "tags": []
   },
   "outputs": [
    {
     "data": {
      "text/plain": [
       "0.9569566641435086"
      ]
     },
     "execution_count": 32,
     "metadata": {},
     "output_type": "execute_result"
    }
   ],
   "source": [
    "regr.score(X, y)"
   ]
  },
  {
   "cell_type": "code",
   "execution_count": 33,
   "id": "closed-preparation",
   "metadata": {
    "execution": {
     "iopub.execute_input": "2021-05-30T03:41:39.847709Z",
     "iopub.status.busy": "2021-05-30T03:41:39.846789Z",
     "iopub.status.idle": "2021-05-30T03:41:39.851726Z",
     "shell.execute_reply": "2021-05-30T03:41:39.851205Z",
     "shell.execute_reply.started": "2021-05-22T11:29:50.45371Z"
    },
    "papermill": {
     "duration": 0.071468,
     "end_time": "2021-05-30T03:41:39.851870",
     "exception": false,
     "start_time": "2021-05-30T03:41:39.780402",
     "status": "completed"
    },
    "tags": []
   },
   "outputs": [
    {
     "data": {
      "text/plain": [
       "95.69566641435085"
      ]
     },
     "execution_count": 33,
     "metadata": {},
     "output_type": "execute_result"
    }
   ],
   "source": [
    "( regr.score(X,y) ) * 100           # Accuracy Score of the Model.  "
   ]
  },
  {
   "cell_type": "markdown",
   "id": "intellectual-capacity",
   "metadata": {
    "papermill": {
     "duration": 0.059288,
     "end_time": "2021-05-30T03:41:39.968137",
     "exception": false,
     "start_time": "2021-05-30T03:41:39.908849",
     "status": "completed"
    },
    "tags": []
   },
   "source": [
    "# We can see that Our values from the Classical Method and Sklearn Model are same. "
   ]
  },
  {
   "cell_type": "code",
   "execution_count": 35,
   "id": "related-judges",
   "metadata": {
    "execution": {
     "iopub.execute_input": "2021-05-30T03:41:40.087729Z",
     "iopub.status.busy": "2021-05-30T03:41:40.086814Z",
     "iopub.status.idle": "2021-05-30T03:41:40.091519Z",
     "shell.execute_reply": "2021-05-30T03:41:40.090902Z",
     "shell.execute_reply.started": "2021-05-22T11:29:50.469354Z"
    },
    "papermill": {
     "duration": 0.066562,
     "end_time": "2021-05-30T03:41:40.091661",
     "exception": false,
     "start_time": "2021-05-30T03:41:40.025099",
     "status": "completed"
    },
    "tags": []
   },
   "outputs": [
    {
     "data": {
      "text/plain": [
       "array([38077.15121656])"
      ]
     },
     "execution_count": 35,
     "metadata": {},
     "output_type": "execute_result"
    }
   ],
   "source": [
    "# Now We can Make Prediction. \n",
    "\n",
    "regr.predict([[1.3]])"
   ]
  },
  {
   "cell_type": "code",
   "execution_count": 37,
   "id": "011338d0",
   "metadata": {},
   "outputs": [
    {
     "data": {
      "text/plain": [
       "array([140609.24240435])"
      ]
     },
     "execution_count": 37,
     "metadata": {},
     "output_type": "execute_result"
    }
   ],
   "source": [
    "regr.predict([[12.15]])"
   ]
  },
  {
   "cell_type": "code",
   "execution_count": 38,
   "id": "proper-vitamin",
   "metadata": {
    "execution": {
     "iopub.execute_input": "2021-05-30T03:41:40.213477Z",
     "iopub.status.busy": "2021-05-30T03:41:40.212858Z",
     "iopub.status.idle": "2021-05-30T03:41:40.233323Z",
     "shell.execute_reply": "2021-05-30T03:41:40.233807Z",
     "shell.execute_reply.started": "2021-05-22T11:29:50.486144Z"
    },
    "papermill": {
     "duration": 0.083215,
     "end_time": "2021-05-30T03:41:40.234019",
     "exception": false,
     "start_time": "2021-05-30T03:41:40.150804",
     "status": "completed"
    },
    "tags": []
   },
   "outputs": [
    {
     "name": "stdout",
     "output_type": "stream",
     "text": [
      "[36187.15875227]\n",
      "[38077.15121656]\n",
      "[39967.14368085]\n",
      "[44692.12484158]\n",
      "[46582.11730587]\n",
      "[53197.09093089]\n",
      "[54142.08716303]\n",
      "[56032.07962732]\n",
      "[56032.07962732]\n",
      "[60757.06078805]\n",
      "[62647.05325234]\n",
      "[63592.04948449]\n",
      "[63592.04948449]\n",
      "[64537.04571663]\n",
      "[68317.03064522]\n",
      "[72097.0155738]\n",
      "[73987.00803809]\n",
      "[75877.00050238]\n",
      "[81546.97789525]\n",
      "[82491.9741274]\n",
      "[90051.94398456]\n",
      "[92886.932681]\n",
      "[100446.90253816]\n",
      "[103281.8912346]\n",
      "[108006.87239533]\n",
      "[110841.86109176]\n",
      "[115566.84225249]\n",
      "[116511.83848464]\n",
      "[123126.81210966]\n",
      "[125016.80457395]\n"
     ]
    }
   ],
   "source": [
    "list1 = []\n",
    "\n",
    "for x in df['YearsExperience']:\n",
    "    print(regr.predict([[x]]))   \n",
    "    list1.append(regr.predict([[x]]))\n",
    "    "
   ]
  },
  {
   "cell_type": "code",
   "execution_count": 39,
   "id": "administrative-recruitment",
   "metadata": {
    "execution": {
     "iopub.execute_input": "2021-05-30T03:41:40.357501Z",
     "iopub.status.busy": "2021-05-30T03:41:40.356532Z",
     "iopub.status.idle": "2021-05-30T03:41:40.361305Z",
     "shell.execute_reply": "2021-05-30T03:41:40.360689Z",
     "shell.execute_reply.started": "2021-05-22T11:29:50.509386Z"
    },
    "papermill": {
     "duration": 0.06928,
     "end_time": "2021-05-30T03:41:40.361441",
     "exception": false,
     "start_time": "2021-05-30T03:41:40.292161",
     "status": "completed"
    },
    "tags": []
   },
   "outputs": [
    {
     "data": {
      "text/plain": [
       "'[36187.15875226929, 38077.151216560305, 39967.143680851324, 44692.12484157886, 46582.11730586988, 53197.09093088842, 54142.08716303393, 56032.07962732494, 56032.07962732494, 60757.060788052484, 62647.053252343496, 63592.049484489005, 63592.049484489005, 64537.04571663451, 68317.03064521654, 72097.01557379858, 73987.00803808958, 75877.0005023806, 81546.97789525366, 82491.97412739915, 90051.9439845632, 92886.93268099973, 100446.90253816379, 103281.8912346003, 108006.87239532784, 110841.86109176437, 115566.84225249192, 116511.83848463741, 123126.81210965598, 125016.80457394698]'"
      ]
     },
     "execution_count": 39,
     "metadata": {},
     "output_type": "execute_result"
    }
   ],
   "source": [
    "from itertools import chain\n",
    "flatten_list = list(chain.from_iterable(list1))\n",
    "str(flatten_list)"
   ]
  },
  {
   "cell_type": "code",
   "execution_count": 40,
   "id": "minus-calibration",
   "metadata": {
    "execution": {
     "iopub.execute_input": "2021-05-30T03:41:40.483703Z",
     "iopub.status.busy": "2021-05-30T03:41:40.483096Z",
     "iopub.status.idle": "2021-05-30T03:41:40.487549Z",
     "shell.execute_reply": "2021-05-30T03:41:40.486958Z",
     "shell.execute_reply.started": "2021-05-22T11:29:50.517399Z"
    },
    "papermill": {
     "duration": 0.068307,
     "end_time": "2021-05-30T03:41:40.487683",
     "exception": false,
     "start_time": "2021-05-30T03:41:40.419376",
     "status": "completed"
    },
    "tags": []
   },
   "outputs": [
    {
     "data": {
      "text/plain": [
       "[36187.15875226929,\n",
       " 38077.151216560305,\n",
       " 39967.143680851324,\n",
       " 44692.12484157886,\n",
       " 46582.11730586988,\n",
       " 53197.09093088842,\n",
       " 54142.08716303393,\n",
       " 56032.07962732494,\n",
       " 56032.07962732494,\n",
       " 60757.060788052484,\n",
       " 62647.053252343496,\n",
       " 63592.049484489005,\n",
       " 63592.049484489005,\n",
       " 64537.04571663451,\n",
       " 68317.03064521654,\n",
       " 72097.01557379858,\n",
       " 73987.00803808958,\n",
       " 75877.0005023806,\n",
       " 81546.97789525366,\n",
       " 82491.97412739915,\n",
       " 90051.9439845632,\n",
       " 92886.93268099973,\n",
       " 100446.90253816379,\n",
       " 103281.8912346003,\n",
       " 108006.87239532784,\n",
       " 110841.86109176437,\n",
       " 115566.84225249192,\n",
       " 116511.83848463741,\n",
       " 123126.81210965598,\n",
       " 125016.80457394698]"
      ]
     },
     "execution_count": 40,
     "metadata": {},
     "output_type": "execute_result"
    }
   ],
   "source": [
    "results = list(map(float, flatten_list))\n",
    "results"
   ]
  },
  {
   "cell_type": "code",
   "execution_count": 41,
   "id": "nonprofit-float",
   "metadata": {
    "execution": {
     "iopub.execute_input": "2021-05-30T03:41:40.607497Z",
     "iopub.status.busy": "2021-05-30T03:41:40.606862Z",
     "iopub.status.idle": "2021-05-30T03:41:40.621308Z",
     "shell.execute_reply": "2021-05-30T03:41:40.620668Z",
     "shell.execute_reply.started": "2021-05-22T11:29:50.531172Z"
    },
    "papermill": {
     "duration": 0.075745,
     "end_time": "2021-05-30T03:41:40.621445",
     "exception": false,
     "start_time": "2021-05-30T03:41:40.545700",
     "status": "completed"
    },
    "scrolled": true,
    "tags": []
   },
   "outputs": [
    {
     "data": {
      "text/html": [
       "<div>\n",
       "<style scoped>\n",
       "    .dataframe tbody tr th:only-of-type {\n",
       "        vertical-align: middle;\n",
       "    }\n",
       "\n",
       "    .dataframe tbody tr th {\n",
       "        vertical-align: top;\n",
       "    }\n",
       "\n",
       "    .dataframe thead th {\n",
       "        text-align: right;\n",
       "    }\n",
       "</style>\n",
       "<table border=\"1\" class=\"dataframe\">\n",
       "  <thead>\n",
       "    <tr style=\"text-align: right;\">\n",
       "      <th></th>\n",
       "      <th>Actual</th>\n",
       "      <th>Predicted</th>\n",
       "      <th>Difference</th>\n",
       "    </tr>\n",
       "  </thead>\n",
       "  <tbody>\n",
       "    <tr>\n",
       "      <th>0</th>\n",
       "      <td>39343</td>\n",
       "      <td>36187.158752</td>\n",
       "      <td>3155.84</td>\n",
       "    </tr>\n",
       "    <tr>\n",
       "      <th>1</th>\n",
       "      <td>46205</td>\n",
       "      <td>38077.151217</td>\n",
       "      <td>8127.85</td>\n",
       "    </tr>\n",
       "    <tr>\n",
       "      <th>2</th>\n",
       "      <td>37731</td>\n",
       "      <td>39967.143681</td>\n",
       "      <td>-2236.14</td>\n",
       "    </tr>\n",
       "    <tr>\n",
       "      <th>3</th>\n",
       "      <td>43525</td>\n",
       "      <td>44692.124842</td>\n",
       "      <td>-1167.12</td>\n",
       "    </tr>\n",
       "    <tr>\n",
       "      <th>4</th>\n",
       "      <td>39891</td>\n",
       "      <td>46582.117306</td>\n",
       "      <td>-6691.12</td>\n",
       "    </tr>\n",
       "    <tr>\n",
       "      <th>5</th>\n",
       "      <td>56642</td>\n",
       "      <td>53197.090931</td>\n",
       "      <td>3444.91</td>\n",
       "    </tr>\n",
       "    <tr>\n",
       "      <th>6</th>\n",
       "      <td>60150</td>\n",
       "      <td>54142.087163</td>\n",
       "      <td>6007.91</td>\n",
       "    </tr>\n",
       "    <tr>\n",
       "      <th>7</th>\n",
       "      <td>54445</td>\n",
       "      <td>56032.079627</td>\n",
       "      <td>-1587.08</td>\n",
       "    </tr>\n",
       "    <tr>\n",
       "      <th>8</th>\n",
       "      <td>64445</td>\n",
       "      <td>56032.079627</td>\n",
       "      <td>8412.92</td>\n",
       "    </tr>\n",
       "    <tr>\n",
       "      <th>9</th>\n",
       "      <td>57189</td>\n",
       "      <td>60757.060788</td>\n",
       "      <td>-3568.06</td>\n",
       "    </tr>\n",
       "  </tbody>\n",
       "</table>\n",
       "</div>"
      ],
      "text/plain": [
       "   Actual     Predicted  Difference\n",
       "0   39343  36187.158752     3155.84\n",
       "1   46205  38077.151217     8127.85\n",
       "2   37731  39967.143681    -2236.14\n",
       "3   43525  44692.124842    -1167.12\n",
       "4   39891  46582.117306    -6691.12\n",
       "5   56642  53197.090931     3444.91\n",
       "6   60150  54142.087163     6007.91\n",
       "7   54445  56032.079627    -1587.08\n",
       "8   64445  56032.079627     8412.92\n",
       "9   57189  60757.060788    -3568.06"
      ]
     },
     "execution_count": 41,
     "metadata": {},
     "output_type": "execute_result"
    }
   ],
   "source": [
    "df1 = pd.DataFrame({'Actual': df['Salary'], 'Predicted': results, 'Difference': round( (df['Salary']-results),2 ) }) \n",
    "df1.head(10)\n"
   ]
  },
  {
   "cell_type": "code",
   "execution_count": null,
   "id": "solved-quick",
   "metadata": {
    "papermill": {
     "duration": 0.058934,
     "end_time": "2021-05-30T03:41:40.739106",
     "exception": false,
     "start_time": "2021-05-30T03:41:40.680172",
     "status": "completed"
    },
    "tags": []
   },
   "outputs": [],
   "source": []
  },
  {
   "cell_type": "code",
   "execution_count": 42,
   "id": "engaged-reward",
   "metadata": {
    "execution": {
     "iopub.execute_input": "2021-05-30T03:41:40.863303Z",
     "iopub.status.busy": "2021-05-30T03:41:40.862571Z",
     "iopub.status.idle": "2021-05-30T03:41:40.868357Z",
     "shell.execute_reply": "2021-05-30T03:41:40.868839Z",
     "shell.execute_reply.started": "2021-05-22T11:29:50.55243Z"
    },
    "papermill": {
     "duration": 0.07105,
     "end_time": "2021-05-30T03:41:40.869046",
     "exception": false,
     "start_time": "2021-05-30T03:41:40.797996",
     "status": "completed"
    },
    "tags": []
   },
   "outputs": [
    {
     "data": {
      "text/plain": [
       "0.0200000000018008"
      ]
     },
     "execution_count": 42,
     "metadata": {},
     "output_type": "execute_result"
    }
   ],
   "source": [
    "#Sum of Residuals \n",
    "\n",
    "round( (df['Salary']-results),2 ).sum() "
   ]
  },
  {
   "cell_type": "code",
   "execution_count": 43,
   "id": "divine-turkish",
   "metadata": {
    "execution": {
     "iopub.execute_input": "2021-05-30T03:41:40.992714Z",
     "iopub.status.busy": "2021-05-30T03:41:40.992074Z",
     "iopub.status.idle": "2021-05-30T03:41:40.998020Z",
     "shell.execute_reply": "2021-05-30T03:41:40.998455Z",
     "shell.execute_reply.started": "2021-05-22T11:29:50.561571Z"
    },
    "papermill": {
     "duration": 0.069557,
     "end_time": "2021-05-30T03:41:40.998665",
     "exception": false,
     "start_time": "2021-05-30T03:41:40.929108",
     "status": "completed"
    },
    "tags": []
   },
   "outputs": [
    {
     "data": {
      "text/plain": [
       "938128831.3961998"
      ]
     },
     "execution_count": 43,
     "metadata": {},
     "output_type": "execute_result"
    }
   ],
   "source": [
    "# Square Sum of Residual errors are : \n",
    "\n",
    "\n",
    "SRS = round( (df['Salary']-results),2 )**2   \n",
    "\n",
    "SRS\n",
    "\n",
    "SRS.sum()\n"
   ]
  },
  {
   "cell_type": "code",
   "execution_count": 44,
   "id": "nasty-andorra",
   "metadata": {
    "execution": {
     "iopub.execute_input": "2021-05-30T03:41:41.123779Z",
     "iopub.status.busy": "2021-05-30T03:41:41.123080Z",
     "iopub.status.idle": "2021-05-30T03:41:41.320053Z",
     "shell.execute_reply": "2021-05-30T03:41:41.319518Z",
     "shell.execute_reply.started": "2021-05-22T11:29:50.577989Z"
    },
    "papermill": {
     "duration": 0.261544,
     "end_time": "2021-05-30T03:41:41.320217",
     "exception": false,
     "start_time": "2021-05-30T03:41:41.058673",
     "status": "completed"
    },
    "tags": []
   },
   "outputs": [
    {
     "data": {
      "image/png": "[encoded data removed]",
      "text/plain": [
       "<Figure size 640x480 with 1 Axes>"
      ]
     },
     "metadata": {},
     "output_type": "display_data"
    }
   ],
   "source": [
    "# The sum of weighted residuals\n",
    "\n",
    "one = round( (df['Salary']-results),2 )   \n",
    "\n",
    "\n",
    "\n",
    "fig = plt.figure()\n",
    "one\n",
    "sns.distplot(one, bins = 15) \n",
    "\n",
    "plt.show()\n"
   ]
  },
  {
   "cell_type": "code",
   "execution_count": 45,
   "id": "alike-roberts",
   "metadata": {
    "execution": {
     "iopub.execute_input": "2021-05-30T03:41:41.450499Z",
     "iopub.status.busy": "2021-05-30T03:41:41.449651Z",
     "iopub.status.idle": "2021-05-30T03:41:41.453748Z",
     "shell.execute_reply": "2021-05-30T03:41:41.454230Z",
     "shell.execute_reply.started": "2021-05-22T11:29:50.75303Z"
    },
    "papermill": {
     "duration": 0.072758,
     "end_time": "2021-05-30T03:41:41.454498",
     "exception": false,
     "start_time": "2021-05-30T03:41:41.381740",
     "status": "completed"
    },
    "tags": []
   },
   "outputs": [
    {
     "data": {
      "text/plain": [
       "0.9569566641435086"
      ]
     },
     "execution_count": 45,
     "metadata": {},
     "output_type": "execute_result"
    }
   ],
   "source": [
    "from sklearn.metrics import mean_squared_error, r2_score\n",
    "Sales_pred = regr.predict(X)                       # Value of Target variable when we predict it with the Independent variable. \n",
    "r2_score(df['Salary'], results) "
   ]
  },
  {
   "cell_type": "code",
   "execution_count": 46,
   "id": "vulnerable-papua",
   "metadata": {
    "execution": {
     "iopub.execute_input": "2021-05-30T03:41:41.601880Z",
     "iopub.status.busy": "2021-05-30T03:41:41.601197Z",
     "iopub.status.idle": "2021-05-30T03:41:41.757974Z",
     "shell.execute_reply": "2021-05-30T03:41:41.758442Z",
     "shell.execute_reply.started": "2021-05-22T11:29:50.76222Z"
    },
    "papermill": {
     "duration": 0.241883,
     "end_time": "2021-05-30T03:41:41.758634",
     "exception": false,
     "start_time": "2021-05-30T03:41:41.516751",
     "status": "completed"
    },
    "tags": []
   },
   "outputs": [
    {
     "data": {
      "image/png": "[encoded data removed]",
      "text/plain": [
       "<Figure size 640x480 with 1 Axes>"
      ]
     },
     "metadata": {},
     "output_type": "display_data"
    }
   ],
   "source": [
    "\n",
    "\n",
    "# Plotting the actual line\n",
    "sns.regplot(x=df['YearsExperience'], y=df['Salary'], order=1, ci=None, scatter_kws={'color':'r', 's':9})\n",
    "\n",
    "# Plotting the predicted line\n",
    "sns.regplot(x=df['YearsExperience'], y=results, order=1, ci=None, scatter_kws={'color':'g', 's':9})\n",
    "\n",
    "plt.xlim(2, 10)\n",
    "plt.ylim(bottom=30000)\n",
    "\n",
    "plt.show()\n",
    "\n"
   ]
  },
  {
   "cell_type": "code",
   "execution_count": null,
   "id": "graphic-cassette",
   "metadata": {
    "papermill": {
     "duration": 0.061128,
     "end_time": "2021-05-30T03:41:41.881305",
     "exception": false,
     "start_time": "2021-05-30T03:41:41.820177",
     "status": "completed"
    },
    "tags": []
   },
   "outputs": [],
   "source": []
  },
  {
   "cell_type": "code",
   "execution_count": 47,
   "id": "daily-mixer",
   "metadata": {
    "execution": {
     "iopub.execute_input": "2021-05-30T03:41:42.010214Z",
     "iopub.status.busy": "2021-05-30T03:41:42.009531Z",
     "iopub.status.idle": "2021-05-30T03:41:42.163844Z",
     "shell.execute_reply": "2021-05-30T03:41:42.163322Z",
     "shell.execute_reply.started": "2021-05-22T11:29:50.928845Z"
    },
    "papermill": {
     "duration": 0.218933,
     "end_time": "2021-05-30T03:41:42.164007",
     "exception": false,
     "start_time": "2021-05-30T03:41:41.945074",
     "status": "completed"
    },
    "tags": []
   },
   "outputs": [
    {
     "data": {
      "image/png": "[encoded data removed]",
      "text/plain": [
       "<Figure size 640x480 with 1 Axes>"
      ]
     },
     "metadata": {},
     "output_type": "display_data"
    }
   ],
   "source": [
    "sns.residplot(x = \"YearsExperience\", y = \"Salary\", data = df)\n",
    "plt.show() "
   ]
  },
  {
   "cell_type": "code",
   "execution_count": 48,
   "id": "mediterranean-cookbook",
   "metadata": {
    "execution": {
     "iopub.execute_input": "2021-05-30T03:41:42.320140Z",
     "iopub.status.busy": "2021-05-30T03:41:42.319512Z",
     "iopub.status.idle": "2021-05-30T03:41:42.480805Z",
     "shell.execute_reply": "2021-05-30T03:41:42.481298Z",
     "shell.execute_reply.started": "2021-05-22T11:29:51.070828Z"
    },
    "papermill": {
     "duration": 0.255117,
     "end_time": "2021-05-30T03:41:42.481481",
     "exception": false,
     "start_time": "2021-05-30T03:41:42.226364",
     "status": "completed"
    },
    "tags": []
   },
   "outputs": [
    {
     "data": {
      "image/png": "[encoded data removed]",
      "text/plain": [
       "<Figure size 640x480 with 1 Axes>"
      ]
     },
     "metadata": {},
     "output_type": "display_data"
    }
   ],
   "source": [
    "sns.residplot(x = \"YearsExperience\", y = \"Salary\", data = df, lowess = True,color = 'r') \n",
    "plt.show()"
   ]
  },
  {
   "cell_type": "code",
   "execution_count": 49,
   "id": "regular-abraham",
   "metadata": {
    "execution": {
     "iopub.execute_input": "2021-05-30T03:41:42.612307Z",
     "iopub.status.busy": "2021-05-30T03:41:42.611629Z",
     "iopub.status.idle": "2021-05-30T03:41:42.766184Z",
     "shell.execute_reply": "2021-05-30T03:41:42.766649Z",
     "shell.execute_reply.started": "2021-05-22T11:29:51.219152Z"
    },
    "papermill": {
     "duration": 0.222231,
     "end_time": "2021-05-30T03:41:42.766840",
     "exception": false,
     "start_time": "2021-05-30T03:41:42.544609",
     "status": "completed"
    },
    "tags": []
   },
   "outputs": [
    {
     "data": {
      "image/png": "[encoded data removed]",
      "text/plain": [
       "<Figure size 640x480 with 1 Axes>"
      ]
     },
     "metadata": {},
     "output_type": "display_data"
    }
   ],
   "source": [
    "import matplotlib.pyplot as plt\n",
    "\n",
    "plt.plot(df['YearsExperience'], df['Salary'], label = \"Actual Line\")\n",
    "\n",
    "plt.plot(df['YearsExperience'], results, label = \"Predicted Line\")\n",
    "\n",
    "plt.xlabel('x - axis')\n",
    "plt.ylabel('y - axis')\n",
    "plt.title('Two lines on same graph!')\n",
    "plt.legend()\n",
    "plt.show()"
   ]
  },
  {
   "cell_type": "code",
   "execution_count": 50,
   "id": "temporal-bidder",
   "metadata": {
    "execution": {
     "iopub.execute_input": "2021-05-30T03:41:42.900019Z",
     "iopub.status.busy": "2021-05-30T03:41:42.899317Z",
     "iopub.status.idle": "2021-05-30T03:41:43.637141Z",
     "shell.execute_reply": "2021-05-30T03:41:43.637635Z",
     "shell.execute_reply.started": "2021-05-22T11:29:51.360315Z"
    },
    "papermill": {
     "duration": 0.805492,
     "end_time": "2021-05-30T03:41:43.637799",
     "exception": false,
     "start_time": "2021-05-30T03:41:42.832307",
     "status": "completed"
    },
    "tags": []
   },
   "outputs": [
    {
     "data": {
      "text/html": [
       "<table class=\"simpletable\">\n",
       "<caption>OLS Regression Results</caption>\n",
       "<tr>\n",
       "  <th>Dep. Variable:</th>         <td>Salary</td>      <th>  R-squared:         </th> <td>   0.957</td>\n",
       "</tr>\n",
       "<tr>\n",
       "  <th>Model:</th>                   <td>OLS</td>       <th>  Adj. R-squared:    </th> <td>   0.955</td>\n",
       "</tr>\n",
       "<tr>\n",
       "  <th>Method:</th>             <td>Least Squares</td>  <th>  F-statistic:       </th> <td>   622.5</td>\n",
       "</tr>\n",
       "<tr>\n",
       "  <th>Date:</th>             <td>Tue, 25 Jun 2024</td> <th>  Prob (F-statistic):</th> <td>1.14e-20</td>\n",
       "</tr>\n",
       "<tr>\n",
       "  <th>Time:</th>                 <td>09:55:49</td>     <th>  Log-Likelihood:    </th> <td> -301.44</td>\n",
       "</tr>\n",
       "<tr>\n",
       "  <th>No. Observations:</th>      <td>    30</td>      <th>  AIC:               </th> <td>   606.9</td>\n",
       "</tr>\n",
       "<tr>\n",
       "  <th>Df Residuals:</th>          <td>    28</td>      <th>  BIC:               </th> <td>   609.7</td>\n",
       "</tr>\n",
       "<tr>\n",
       "  <th>Df Model:</th>              <td>     1</td>      <th>                     </th>     <td> </td>   \n",
       "</tr>\n",
       "<tr>\n",
       "  <th>Covariance Type:</th>      <td>nonrobust</td>    <th>                     </th>     <td> </td>   \n",
       "</tr>\n",
       "</table>\n",
       "<table class=\"simpletable\">\n",
       "<tr>\n",
       "    <td></td>       <th>coef</th>     <th>std err</th>      <th>t</th>      <th>P>|t|</th>  <th>[0.025</th>    <th>0.975]</th>  \n",
       "</tr>\n",
       "<tr>\n",
       "  <th>const</th> <td> 2.579e+04</td> <td> 2273.053</td> <td>   11.347</td> <td> 0.000</td> <td> 2.11e+04</td> <td> 3.04e+04</td>\n",
       "</tr>\n",
       "<tr>\n",
       "  <th>x1</th>    <td> 9449.9623</td> <td>  378.755</td> <td>   24.950</td> <td> 0.000</td> <td> 8674.119</td> <td> 1.02e+04</td>\n",
       "</tr>\n",
       "</table>\n",
       "<table class=\"simpletable\">\n",
       "<tr>\n",
       "  <th>Omnibus:</th>       <td> 2.140</td> <th>  Durbin-Watson:     </th> <td>   1.648</td>\n",
       "</tr>\n",
       "<tr>\n",
       "  <th>Prob(Omnibus):</th> <td> 0.343</td> <th>  Jarque-Bera (JB):  </th> <td>   1.569</td>\n",
       "</tr>\n",
       "<tr>\n",
       "  <th>Skew:</th>          <td> 0.363</td> <th>  Prob(JB):          </th> <td>   0.456</td>\n",
       "</tr>\n",
       "<tr>\n",
       "  <th>Kurtosis:</th>      <td> 2.147</td> <th>  Cond. No.          </th> <td>    13.2</td>\n",
       "</tr>\n",
       "</table><br/><br/>Notes:<br/>[1] Standard Errors assume that the covariance matrix of the errors is correctly specified."
      ],
      "text/latex": [
       "\\begin{center}\n",
       "\\begin{tabular}{lclc}\n",
       "\\toprule\n",
       "\\textbf{Dep. Variable:}    &      Salary      & \\textbf{  R-squared:         } &     0.957   \\\\\n",
       "\\textbf{Model:}            &       OLS        & \\textbf{  Adj. R-squared:    } &     0.955   \\\\\n",
       "\\textbf{Method:}           &  Least Squares   & \\textbf{  F-statistic:       } &     622.5   \\\\\n",
       "\\textbf{Date:}             & Tue, 25 Jun 2024 & \\textbf{  Prob (F-statistic):} &  1.14e-20   \\\\\n",
       "\\textbf{Time:}             &     09:55:49     & \\textbf{  Log-Likelihood:    } &   -301.44   \\\\\n",
       "\\textbf{No. Observations:} &          30      & \\textbf{  AIC:               } &     606.9   \\\\\n",
       "\\textbf{Df Residuals:}     &          28      & \\textbf{  BIC:               } &     609.7   \\\\\n",
       "\\textbf{Df Model:}         &           1      & \\textbf{                     } &             \\\\\n",
       "\\textbf{Covariance Type:}  &    nonrobust     & \\textbf{                     } &             \\\\\n",
       "\\bottomrule\n",
       "\\end{tabular}\n",
       "\\begin{tabular}{lcccccc}\n",
       "               & \\textbf{coef} & \\textbf{std err} & \\textbf{t} & \\textbf{P$> |$t$|$} & \\textbf{[0.025} & \\textbf{0.975]}  \\\\\n",
       "\\midrule\n",
       "\\textbf{const} &    2.579e+04  &     2273.053     &    11.347  &         0.000        &     2.11e+04    &     3.04e+04     \\\\\n",
       "\\textbf{x1}    &    9449.9623  &      378.755     &    24.950  &         0.000        &     8674.119    &     1.02e+04     \\\\\n",
       "\\bottomrule\n",
       "\\end{tabular}\n",
       "\\begin{tabular}{lclc}\n",
       "\\textbf{Omnibus:}       &  2.140 & \\textbf{  Durbin-Watson:     } &    1.648  \\\\\n",
       "\\textbf{Prob(Omnibus):} &  0.343 & \\textbf{  Jarque-Bera (JB):  } &    1.569  \\\\\n",
       "\\textbf{Skew:}          &  0.363 & \\textbf{  Prob(JB):          } &    0.456  \\\\\n",
       "\\textbf{Kurtosis:}      &  2.147 & \\textbf{  Cond. No.          } &     13.2  \\\\\n",
       "\\bottomrule\n",
       "\\end{tabular}\n",
       "%\\caption{OLS Regression Results}\n",
       "\\end{center}\n",
       "\n",
       "Notes: \\newline\n",
       " [1] Standard Errors assume that the covariance matrix of the errors is correctly specified."
      ],
      "text/plain": [
       "<class 'statsmodels.iolib.summary.Summary'>\n",
       "\"\"\"\n",
       "                            OLS Regression Results                            \n",
       "==============================================================================\n",
       "Dep. Variable:                 Salary   R-squared:                       0.957\n",
       "Model:                            OLS   Adj. R-squared:                  0.955\n",
       "Method:                 Least Squares   F-statistic:                     622.5\n",
       "Date:                Tue, 25 Jun 2024   Prob (F-statistic):           1.14e-20\n",
       "Time:                        09:55:49   Log-Likelihood:                -301.44\n",
       "No. Observations:                  30   AIC:                             606.9\n",
       "Df Residuals:                      28   BIC:                             609.7\n",
       "Df Model:                           1                                         \n",
       "Covariance Type:            nonrobust                                         \n",
       "==============================================================================\n",
       "                 coef    std err          t      P>|t|      [0.025      0.975]\n",
       "------------------------------------------------------------------------------\n",
       "const       2.579e+04   2273.053     11.347      0.000    2.11e+04    3.04e+04\n",
       "x1          9449.9623    378.755     24.950      0.000    8674.119    1.02e+04\n",
       "==============================================================================\n",
       "Omnibus:                        2.140   Durbin-Watson:                   1.648\n",
       "Prob(Omnibus):                  0.343   Jarque-Bera (JB):                1.569\n",
       "Skew:                           0.363   Prob(JB):                        0.456\n",
       "Kurtosis:                       2.147   Cond. No.                         13.2\n",
       "==============================================================================\n",
       "\n",
       "Notes:\n",
       "[1] Standard Errors assume that the covariance matrix of the errors is correctly specified.\n",
       "\"\"\""
      ]
     },
     "execution_count": 50,
     "metadata": {},
     "output_type": "execute_result"
    }
   ],
   "source": [
    "#  OLS = ordinary least square method. \n",
    "\n",
    "import statsmodels.api as sm\n",
    "X2 = sm.add_constant(X)\n",
    "est = sm.OLS(y,X2)                                   \n",
    "est2 = est.fit()\n",
    "est2.summary()"
   ]
  },
  {
   "cell_type": "code",
   "execution_count": null,
   "id": "foster-savings",
   "metadata": {
    "papermill": {
     "duration": 0.065118,
     "end_time": "2021-05-30T03:41:43.768240",
     "exception": false,
     "start_time": "2021-05-30T03:41:43.703122",
     "status": "completed"
    },
    "tags": []
   },
   "outputs": [],
   "source": []
  }
 ],
 "metadata": {
  "kernelspec": {
   "display_name": "Python 3 (ipykernel)",
   "language": "python",
   "name": "python3"
  },
  "language_info": {
   "codemirror_mode": {
    "name": "ipython",
    "version": 3
   },
   "file_extension": ".py",
   "mimetype": "text/x-python",
   "name": "python",
   "nbconvert_exporter": "python",
   "pygments_lexer": "ipython3",
   "version": "3.7.9"
  },
  "papermill": {
   "default_parameters": {},
   "duration": 21.972508,
   "end_time": "2021-05-30T03:41:45.339739",
   "environment_variables": {},
   "exception": null,
   "input_path": "__notebook__.ipynb",
   "output_path": "__notebook__.ipynb",
   "parameters": {},
   "start_time": "2021-05-30T03:41:23.367231",
   "version": "2.3.3"
  }
 },
 "nbformat": 4,
 "nbformat_minor": 5
}
