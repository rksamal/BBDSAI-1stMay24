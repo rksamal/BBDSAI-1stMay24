{
 "cells": [
  {
   "cell_type": "code",
   "execution_count": 22,
   "id": "c018699c",
   "metadata": {},
   "outputs": [
    {
     "name": "stdout",
     "output_type": "stream",
     "text": [
      "Enter a number:7\n",
      "It's a odd number\n"
     ]
    }
   ],
   "source": [
    "even_or_odd = int(input(\"Enter a number:\"))\n",
    "if even_or_odd % 2 ==0:\n",
    "    print(\"It's a even number\")\n",
    "else:\n",
    "    print(\"It's a odd number\")"
   ]
  },
  {
   "cell_type": "code",
   "execution_count": 24,
   "id": "1f693043",
   "metadata": {},
   "outputs": [
    {
     "name": "stdout",
     "output_type": "stream",
     "text": [
      "Enter a number:-5\n",
      "Its a negitive number\n"
     ]
    }
   ],
   "source": [
    "abc = int(input(\"Enter a number:\"))\n",
    "if abc > 0:\n",
    "    print(\"Its a positive number\")\n",
    "elif abc < 0:\n",
    "    print(\"Its a negative number\")\n",
    "else:\n",
    "    print(\"Its a zero\")"
   ]
  },
  {
   "cell_type": "code",
   "execution_count": 3,
   "id": "6a92d344",
   "metadata": {},
   "outputs": [
    {
     "name": "stdout",
     "output_type": "stream",
     "text": [
      "Enter a number8\n",
      "Enter a number9\n",
      "Enter a number3\n",
      "b is a largest number\n"
     ]
    }
   ],
   "source": [
    "a = int(input(\"Enter a number\"))\n",
    "b = int(input(\"Enter a number\"))\n",
    "c = int(input(\"Enter a number\"))\n",
    "if a > b and a > c:\n",
    "    print(\" a is largest number\")\n",
    "elif b > c and b > a:\n",
    "    print(\"b is a largest number\")\n",
    "else:\n",
    "    print(\"c is a largest number\")\n",
    "    "
   ]
  },
  {
   "cell_type": "code",
   "execution_count": 6,
   "id": "bb9a0deb",
   "metadata": {},
   "outputs": [
    {
     "name": "stdout",
     "output_type": "stream",
     "text": [
      "Enter a student score50\n",
      "F grade\n"
     ]
    }
   ],
   "source": [
    "score = int(input(\"Enter a student score\"))\n",
    "if score > 90 and score <100:\n",
    "    print(\" A garde\")\n",
    "elif score > 80 and score < 89:\n",
    "    print(\"B grade\")\n",
    "elif score > 70 and score < 79:\n",
    "    print(\"C grade\")\n",
    "elif score >60 and score < 69:\n",
    "    print(\"D grade\")\n",
    "else:\n",
    "    print(\"F grade\")"
   ]
  },
  {
   "cell_type": "code",
   "execution_count": 8,
   "id": "9ffff40b",
   "metadata": {},
   "outputs": [
    {
     "name": "stdout",
     "output_type": "stream",
     "text": [
      "Enter a year2024\n",
      "its leap year\n"
     ]
    }
   ],
   "source": [
    "year = int(input(\"Enter a year\"))\n",
    "if year % 4 == 0:\n",
    "    print(\"its leap year\")\n",
    "else:\n",
    "    print(\"its not a leap year\")"
   ]
  },
  {
   "cell_type": "code",
   "execution_count": null,
   "id": "22e6af32",
   "metadata": {},
   "outputs": [],
   "source": []
  },
  {
   "cell_type": "code",
   "execution_count": 32,
   "id": "904bd51a",
   "metadata": {},
   "outputs": [
    {
     "name": "stdout",
     "output_type": "stream",
     "text": [
      "Enter a age:65\n",
      "senior\n"
     ]
    }
   ],
   "source": [
    "age = int(input(\"Enter a age:\"))\n",
    "if age < 12:\n",
    "    print(\"Child\")\n",
    "elif age > 13 and age < 19:\n",
    "    print(\"Teenager\")\n",
    "elif age > 20 and age < 64:\n",
    "    print(\"Adult\")\n",
    "elif age >= 65:\n",
    "    print(\"senior\")"
   ]
  },
  {
   "cell_type": "code",
   "execution_count": null,
   "id": "2213be78",
   "metadata": {},
   "outputs": [],
   "source": [
    "angle_one = int(input(\"Enter a angle value:\"))\n",
    "angle_two = int(input(\"Enter a angle value:\"))\n",
    "angle_three = int(input(\"Enter a angle value:\"))\n",
    "if angle_one == angle_two == angle_three:\n",
    "    print(\"Its a equilateral trigle\")\n",
    "elif angle_one == angle_two or angle_one == angle_three or angle_two == angle_three:\n",
    "    print(\"It a isosceles triangle\")\n",
    "else:\n",
    "    print(\"It a scalene triangle\")"
   ]
  },
  {
   "cell_type": "code",
   "execution_count": null,
   "id": "f0e34658",
   "metadata": {},
   "outputs": [],
   "source": [
    "first_number = int(input(\"Enter a number\"))\n",
    "second_number = int(input(\"Enter a number\"))\n",
    "if first_number > second_number:\n",
    "    print(\"The first number is greater than second number\")\n",
    "elif first_number == second_number:\n",
    "    print(\"The first number is equals to second number\")\n",
    "else:\n",
    "    print(\"The first number is less than second number\")"
   ]
  },
  {
   "cell_type": "code",
   "execution_count": null,
   "id": "c619b92d",
   "metadata": {},
   "outputs": [],
   "source": [
    "Celsius = int(input(\"Enter a Celsius\"))\n",
    "Fahrenheit = (Celsius * 9/5)+32\n",
    "print(Fahrenheit)"
   ]
  },
  {
   "cell_type": "code",
   "execution_count": null,
   "id": "ea46b70a",
   "metadata": {},
   "outputs": [],
   "source": [
    "total_sum = 0\n",
    "for item in range (1,10):\n",
    "    total_sum += item\n",
    "print(total_sum, \" is the sum of hundred numbers\")"
   ]
  },
  {
   "cell_type": "code",
   "execution_count": 1,
   "id": "066e6926",
   "metadata": {},
   "outputs": [
    {
     "name": "stdout",
     "output_type": "stream",
     "text": [
      "4950  is the sum of hundred numbers\n"
     ]
    }
   ],
   "source": [
    "total_sum = 0\n",
    "for item in range (1,100):\n",
    "    total_sum += item\n",
    "print(total_sum, \" is the sum of hundred numbers\")"
   ]
  },
  {
   "cell_type": "code",
   "execution_count": 2,
   "id": "d24a8c1d",
   "metadata": {},
   "outputs": [
    {
     "ename": "IndentationError",
     "evalue": "unexpected indent (3431451303.py, line 2)",
     "output_type": "error",
     "traceback": [
      "\u001b[1;36m  File \u001b[1;32m\"C:\\Users\\Acer\\AppData\\Local\\Temp\\ipykernel_11464\\3431451303.py\"\u001b[1;36m, line \u001b[1;32m2\u001b[0m\n\u001b[1;33m    for i in range(1, number + 1):\u001b[0m\n\u001b[1;37m    ^\u001b[0m\n\u001b[1;31mIndentationError\u001b[0m\u001b[1;31m:\u001b[0m unexpected indent\n"
     ]
    }
   ],
   "source": [
    "factorial_number = int(input(\"Enter a number:\"))\n",
    "    for i in range(1, number + 1):\n",
    "        factorial *= i\n",
    "print(factorial_number)"
   ]
  },
  {
   "cell_type": "code",
   "execution_count": 5,
   "id": "fce04eba",
   "metadata": {},
   "outputs": [],
   "source": [
    "def sum_of_two_number(a,b):\n",
    "    addition = a + b\n",
    "    return addition\n"
   ]
  },
  {
   "cell_type": "code",
   "execution_count": 6,
   "id": "0a166682",
   "metadata": {},
   "outputs": [],
   "source": [
    "a = 4\n",
    "b = 6\n",
    "result = sum_of_two_number(a,b)"
   ]
  },
  {
   "cell_type": "code",
   "execution_count": 7,
   "id": "222fc5bb",
   "metadata": {},
   "outputs": [
    {
     "name": "stdout",
     "output_type": "stream",
     "text": [
      "10\n"
     ]
    }
   ],
   "source": [
    "print(result)"
   ]
  },
  {
   "cell_type": "code",
   "execution_count": 20,
   "id": "92e9c7ca",
   "metadata": {},
   "outputs": [],
   "source": [
    "def is_even_or_not(num):\n",
    "    if num % 2 == 0:\n",
    "        return True\n",
    "    else:\n",
    "        return False"
   ]
  },
  {
   "cell_type": "code",
   "execution_count": 38,
   "id": "a1d88e89",
   "metadata": {},
   "outputs": [],
   "source": [
    "num = 7\n",
    "result = is_even_or_not(num)"
   ]
  },
  {
   "cell_type": "code",
   "execution_count": 39,
   "id": "ebeb0963",
   "metadata": {},
   "outputs": [
    {
     "name": "stdout",
     "output_type": "stream",
     "text": [
      "False\n"
     ]
    }
   ],
   "source": [
    "print(result)"
   ]
  },
  {
   "cell_type": "code",
   "execution_count": 57,
   "id": "19d97393",
   "metadata": {},
   "outputs": [],
   "source": [
    "def sum_of_numbers():\n",
    "    total = 0\n",
    "    numb = 1\n",
    "    while numb <= 100:\n",
    "        total += numb\n",
    "        numb += 1\n",
    "    return total"
   ]
  },
  {
   "cell_type": "code",
   "execution_count": 58,
   "id": "cbb196ff",
   "metadata": {},
   "outputs": [],
   "source": [
    "result = sum_of_numbers()"
   ]
  },
  {
   "cell_type": "code",
   "execution_count": 59,
   "id": "fdc94ca4",
   "metadata": {},
   "outputs": [
    {
     "name": "stdout",
     "output_type": "stream",
     "text": [
      "5050\n"
     ]
    }
   ],
   "source": [
    "print(result)"
   ]
  },
  {
   "cell_type": "code",
   "execution_count": 7,
   "id": "70dc6fa2",
   "metadata": {},
   "outputs": [],
   "source": [
    "import pandas as pd\n",
    "import numpy as np\n"
   ]
  },
  {
   "cell_type": "code",
   "execution_count": 8,
   "id": "4405e0f9",
   "metadata": {},
   "outputs": [],
   "source": [
    "data = pd.read_csv(\"annual raw.sv\")"
   ]
  },
  {
   "cell_type": "code",
   "execution_count": 5,
   "id": "02776d90",
   "metadata": {},
   "outputs": [
    {
     "data": {
      "text/plain": [
       "pandas.core.frame.DataFrame"
      ]
     },
     "execution_count": 5,
     "metadata": {},
     "output_type": "execute_result"
    }
   ],
   "source": [
    "type(data)"
   ]
  },
  {
   "cell_type": "code",
   "execution_count": 6,
   "id": "5cb4312f",
   "metadata": {},
   "outputs": [
    {
     "data": {
      "text/html": [
       "<div>\n",
       "<style scoped>\n",
       "    .dataframe tbody tr th:only-of-type {\n",
       "        vertical-align: middle;\n",
       "    }\n",
       "\n",
       "    .dataframe tbody tr th {\n",
       "        vertical-align: top;\n",
       "    }\n",
       "\n",
       "    .dataframe thead th {\n",
       "        text-align: right;\n",
       "    }\n",
       "</style>\n",
       "<table border=\"1\" class=\"dataframe\">\n",
       "  <thead>\n",
       "    <tr style=\"text-align: right;\">\n",
       "      <th></th>\n",
       "      <th>Year</th>\n",
       "      <th>Industry_aggregation_NZSIOC</th>\n",
       "      <th>Industry_code_NZSIOC</th>\n",
       "      <th>Industry_name_NZSIOC</th>\n",
       "      <th>Units</th>\n",
       "      <th>Variable_code</th>\n",
       "      <th>Variable_name</th>\n",
       "      <th>Variable_category</th>\n",
       "      <th>Value</th>\n",
       "      <th>Industry_code_ANZSIC06</th>\n",
       "    </tr>\n",
       "  </thead>\n",
       "  <tbody>\n",
       "    <tr>\n",
       "      <th>0</th>\n",
       "      <td>2021</td>\n",
       "      <td>Level 1</td>\n",
       "      <td>99999</td>\n",
       "      <td>All industries</td>\n",
       "      <td>Dollars (millions)</td>\n",
       "      <td>H01</td>\n",
       "      <td>Total income</td>\n",
       "      <td>Financial performance</td>\n",
       "      <td>757,504</td>\n",
       "      <td>ANZSIC06 divisions A-S (excluding classes K633...</td>\n",
       "    </tr>\n",
       "    <tr>\n",
       "      <th>1</th>\n",
       "      <td>2021</td>\n",
       "      <td>Level 1</td>\n",
       "      <td>99999</td>\n",
       "      <td>All industries</td>\n",
       "      <td>Dollars (millions)</td>\n",
       "      <td>H04</td>\n",
       "      <td>Sales, government funding, grants and subsidies</td>\n",
       "      <td>Financial performance</td>\n",
       "      <td>674,890</td>\n",
       "      <td>ANZSIC06 divisions A-S (excluding classes K633...</td>\n",
       "    </tr>\n",
       "    <tr>\n",
       "      <th>2</th>\n",
       "      <td>2021</td>\n",
       "      <td>Level 1</td>\n",
       "      <td>99999</td>\n",
       "      <td>All industries</td>\n",
       "      <td>Dollars (millions)</td>\n",
       "      <td>H05</td>\n",
       "      <td>Interest, dividends and donations</td>\n",
       "      <td>Financial performance</td>\n",
       "      <td>49,593</td>\n",
       "      <td>ANZSIC06 divisions A-S (excluding classes K633...</td>\n",
       "    </tr>\n",
       "    <tr>\n",
       "      <th>3</th>\n",
       "      <td>2021</td>\n",
       "      <td>Level 1</td>\n",
       "      <td>99999</td>\n",
       "      <td>All industries</td>\n",
       "      <td>Dollars (millions)</td>\n",
       "      <td>H07</td>\n",
       "      <td>Non-operating income</td>\n",
       "      <td>Financial performance</td>\n",
       "      <td>33,020</td>\n",
       "      <td>ANZSIC06 divisions A-S (excluding classes K633...</td>\n",
       "    </tr>\n",
       "    <tr>\n",
       "      <th>4</th>\n",
       "      <td>2021</td>\n",
       "      <td>Level 1</td>\n",
       "      <td>99999</td>\n",
       "      <td>All industries</td>\n",
       "      <td>Dollars (millions)</td>\n",
       "      <td>H08</td>\n",
       "      <td>Total expenditure</td>\n",
       "      <td>Financial performance</td>\n",
       "      <td>654,404</td>\n",
       "      <td>ANZSIC06 divisions A-S (excluding classes K633...</td>\n",
       "    </tr>\n",
       "  </tbody>\n",
       "</table>\n",
       "</div>"
      ],
      "text/plain": [
       "   Year Industry_aggregation_NZSIOC Industry_code_NZSIOC Industry_name_NZSIOC  \\\n",
       "0  2021                     Level 1                99999       All industries   \n",
       "1  2021                     Level 1                99999       All industries   \n",
       "2  2021                     Level 1                99999       All industries   \n",
       "3  2021                     Level 1                99999       All industries   \n",
       "4  2021                     Level 1                99999       All industries   \n",
       "\n",
       "                Units Variable_code  \\\n",
       "0  Dollars (millions)           H01   \n",
       "1  Dollars (millions)           H04   \n",
       "2  Dollars (millions)           H05   \n",
       "3  Dollars (millions)           H07   \n",
       "4  Dollars (millions)           H08   \n",
       "\n",
       "                                     Variable_name      Variable_category  \\\n",
       "0                                     Total income  Financial performance   \n",
       "1  Sales, government funding, grants and subsidies  Financial performance   \n",
       "2                Interest, dividends and donations  Financial performance   \n",
       "3                             Non-operating income  Financial performance   \n",
       "4                                Total expenditure  Financial performance   \n",
       "\n",
       "     Value                             Industry_code_ANZSIC06  \n",
       "0  757,504  ANZSIC06 divisions A-S (excluding classes K633...  \n",
       "1  674,890  ANZSIC06 divisions A-S (excluding classes K633...  \n",
       "2   49,593  ANZSIC06 divisions A-S (excluding classes K633...  \n",
       "3   33,020  ANZSIC06 divisions A-S (excluding classes K633...  \n",
       "4  654,404  ANZSIC06 divisions A-S (excluding classes K633...  "
      ]
     },
     "execution_count": 6,
     "metadata": {},
     "output_type": "execute_result"
    }
   ],
   "source": [
    "data.head()"
   ]
  },
  {
   "cell_type": "code",
   "execution_count": 7,
   "id": "bbffc0ee",
   "metadata": {},
   "outputs": [
    {
     "data": {
      "text/plain": [
       "(41715, 10)"
      ]
     },
     "execution_count": 7,
     "metadata": {},
     "output_type": "execute_result"
    }
   ],
   "source": [
    "data.shape"
   ]
  },
  {
   "cell_type": "code",
   "execution_count": 8,
   "id": "184a0ed6",
   "metadata": {},
   "outputs": [
    {
     "data": {
      "text/plain": [
       "Index(['Year', 'Industry_aggregation_NZSIOC', 'Industry_code_NZSIOC',\n",
       "       'Industry_name_NZSIOC', 'Units', 'Variable_code', 'Variable_name',\n",
       "       'Variable_category', 'Value', 'Industry_code_ANZSIC06'],\n",
       "      dtype='object')"
      ]
     },
     "execution_count": 8,
     "metadata": {},
     "output_type": "execute_result"
    }
   ],
   "source": [
    "data.columns"
   ]
  },
  {
   "cell_type": "code",
   "execution_count": 11,
   "id": "4fb9b231",
   "metadata": {},
   "outputs": [
    {
     "data": {
      "text/html": [
       "<div>\n",
       "<style scoped>\n",
       "    .dataframe tbody tr th:only-of-type {\n",
       "        vertical-align: middle;\n",
       "    }\n",
       "\n",
       "    .dataframe tbody tr th {\n",
       "        vertical-align: top;\n",
       "    }\n",
       "\n",
       "    .dataframe thead th {\n",
       "        text-align: right;\n",
       "    }\n",
       "</style>\n",
       "<table border=\"1\" class=\"dataframe\">\n",
       "  <thead>\n",
       "    <tr style=\"text-align: right;\">\n",
       "      <th></th>\n",
       "      <th>Year</th>\n",
       "      <th>Industry_aggregation_NZSIOC</th>\n",
       "      <th>Industry_code_NZSIOC</th>\n",
       "      <th>Industry_name_NZSIOC</th>\n",
       "      <th>Units</th>\n",
       "      <th>Variable_code</th>\n",
       "      <th>Variable_name</th>\n",
       "      <th>Variable_category</th>\n",
       "      <th>Value</th>\n",
       "      <th>Industry_code_ANZSIC06</th>\n",
       "    </tr>\n",
       "  </thead>\n",
       "  <tbody>\n",
       "    <tr>\n",
       "      <th>41707</th>\n",
       "      <td>2013</td>\n",
       "      <td>Level 3</td>\n",
       "      <td>ZZ11</td>\n",
       "      <td>Food product manufacturing</td>\n",
       "      <td>Dollars</td>\n",
       "      <td>H34</td>\n",
       "      <td>Total income per employee count</td>\n",
       "      <td>Financial ratios</td>\n",
       "      <td>523,700</td>\n",
       "      <td>ANZSIC06 groups C111, C112, C113, C114, C115, ...</td>\n",
       "    </tr>\n",
       "    <tr>\n",
       "      <th>41708</th>\n",
       "      <td>2013</td>\n",
       "      <td>Level 3</td>\n",
       "      <td>ZZ11</td>\n",
       "      <td>Food product manufacturing</td>\n",
       "      <td>Dollars</td>\n",
       "      <td>H35</td>\n",
       "      <td>Surplus per employee count</td>\n",
       "      <td>Financial ratios</td>\n",
       "      <td>17,700</td>\n",
       "      <td>ANZSIC06 groups C111, C112, C113, C114, C115, ...</td>\n",
       "    </tr>\n",
       "    <tr>\n",
       "      <th>41709</th>\n",
       "      <td>2013</td>\n",
       "      <td>Level 3</td>\n",
       "      <td>ZZ11</td>\n",
       "      <td>Food product manufacturing</td>\n",
       "      <td>Percentage</td>\n",
       "      <td>H36</td>\n",
       "      <td>Current ratio</td>\n",
       "      <td>Financial ratios</td>\n",
       "      <td>91</td>\n",
       "      <td>ANZSIC06 groups C111, C112, C113, C114, C115, ...</td>\n",
       "    </tr>\n",
       "    <tr>\n",
       "      <th>41710</th>\n",
       "      <td>2013</td>\n",
       "      <td>Level 3</td>\n",
       "      <td>ZZ11</td>\n",
       "      <td>Food product manufacturing</td>\n",
       "      <td>Percentage</td>\n",
       "      <td>H37</td>\n",
       "      <td>Quick ratio</td>\n",
       "      <td>Financial ratios</td>\n",
       "      <td>52</td>\n",
       "      <td>ANZSIC06 groups C111, C112, C113, C114, C115, ...</td>\n",
       "    </tr>\n",
       "    <tr>\n",
       "      <th>41711</th>\n",
       "      <td>2013</td>\n",
       "      <td>Level 3</td>\n",
       "      <td>ZZ11</td>\n",
       "      <td>Food product manufacturing</td>\n",
       "      <td>Percentage</td>\n",
       "      <td>H38</td>\n",
       "      <td>Margin on sales of goods for resale</td>\n",
       "      <td>Financial ratios</td>\n",
       "      <td>40</td>\n",
       "      <td>ANZSIC06 groups C111, C112, C113, C114, C115, ...</td>\n",
       "    </tr>\n",
       "    <tr>\n",
       "      <th>41712</th>\n",
       "      <td>2013</td>\n",
       "      <td>Level 3</td>\n",
       "      <td>ZZ11</td>\n",
       "      <td>Food product manufacturing</td>\n",
       "      <td>Percentage</td>\n",
       "      <td>H39</td>\n",
       "      <td>Return on equity</td>\n",
       "      <td>Financial ratios</td>\n",
       "      <td>12</td>\n",
       "      <td>ANZSIC06 groups C111, C112, C113, C114, C115, ...</td>\n",
       "    </tr>\n",
       "    <tr>\n",
       "      <th>41713</th>\n",
       "      <td>2013</td>\n",
       "      <td>Level 3</td>\n",
       "      <td>ZZ11</td>\n",
       "      <td>Food product manufacturing</td>\n",
       "      <td>Percentage</td>\n",
       "      <td>H40</td>\n",
       "      <td>Return on total assets</td>\n",
       "      <td>Financial ratios</td>\n",
       "      <td>5</td>\n",
       "      <td>ANZSIC06 groups C111, C112, C113, C114, C115, ...</td>\n",
       "    </tr>\n",
       "    <tr>\n",
       "      <th>41714</th>\n",
       "      <td>2013</td>\n",
       "      <td>Level 3</td>\n",
       "      <td>ZZ11</td>\n",
       "      <td>Food product manufacturing</td>\n",
       "      <td>Percentage</td>\n",
       "      <td>H41</td>\n",
       "      <td>Liabilities structure</td>\n",
       "      <td>Financial ratios</td>\n",
       "      <td>46</td>\n",
       "      <td>ANZSIC06 groups C111, C112, C113, C114, C115, ...</td>\n",
       "    </tr>\n",
       "  </tbody>\n",
       "</table>\n",
       "</div>"
      ],
      "text/plain": [
       "       Year Industry_aggregation_NZSIOC Industry_code_NZSIOC  \\\n",
       "41707  2013                     Level 3                 ZZ11   \n",
       "41708  2013                     Level 3                 ZZ11   \n",
       "41709  2013                     Level 3                 ZZ11   \n",
       "41710  2013                     Level 3                 ZZ11   \n",
       "41711  2013                     Level 3                 ZZ11   \n",
       "41712  2013                     Level 3                 ZZ11   \n",
       "41713  2013                     Level 3                 ZZ11   \n",
       "41714  2013                     Level 3                 ZZ11   \n",
       "\n",
       "             Industry_name_NZSIOC       Units Variable_code  \\\n",
       "41707  Food product manufacturing     Dollars           H34   \n",
       "41708  Food product manufacturing     Dollars           H35   \n",
       "41709  Food product manufacturing  Percentage           H36   \n",
       "41710  Food product manufacturing  Percentage           H37   \n",
       "41711  Food product manufacturing  Percentage           H38   \n",
       "41712  Food product manufacturing  Percentage           H39   \n",
       "41713  Food product manufacturing  Percentage           H40   \n",
       "41714  Food product manufacturing  Percentage           H41   \n",
       "\n",
       "                             Variable_name Variable_category    Value  \\\n",
       "41707      Total income per employee count  Financial ratios  523,700   \n",
       "41708           Surplus per employee count  Financial ratios   17,700   \n",
       "41709                        Current ratio  Financial ratios       91   \n",
       "41710                          Quick ratio  Financial ratios       52   \n",
       "41711  Margin on sales of goods for resale  Financial ratios       40   \n",
       "41712                     Return on equity  Financial ratios       12   \n",
       "41713               Return on total assets  Financial ratios        5   \n",
       "41714                Liabilities structure  Financial ratios       46   \n",
       "\n",
       "                                  Industry_code_ANZSIC06  \n",
       "41707  ANZSIC06 groups C111, C112, C113, C114, C115, ...  \n",
       "41708  ANZSIC06 groups C111, C112, C113, C114, C115, ...  \n",
       "41709  ANZSIC06 groups C111, C112, C113, C114, C115, ...  \n",
       "41710  ANZSIC06 groups C111, C112, C113, C114, C115, ...  \n",
       "41711  ANZSIC06 groups C111, C112, C113, C114, C115, ...  \n",
       "41712  ANZSIC06 groups C111, C112, C113, C114, C115, ...  \n",
       "41713  ANZSIC06 groups C111, C112, C113, C114, C115, ...  \n",
       "41714  ANZSIC06 groups C111, C112, C113, C114, C115, ...  "
      ]
     },
     "execution_count": 11,
     "metadata": {},
     "output_type": "execute_result"
    }
   ],
   "source": [
    "data.tail(8)"
   ]
  },
  {
   "cell_type": "code",
   "execution_count": 11,
   "id": "73d394e8",
   "metadata": {},
   "outputs": [
    {
     "name": "stdout",
     "output_type": "stream",
     "text": [
      "<class 'pandas.core.frame.DataFrame'>\n",
      "RangeIndex: 41715 entries, 0 to 41714\n",
      "Data columns (total 10 columns):\n",
      " #   Column                       Non-Null Count  Dtype \n",
      "---  ------                       --------------  ----- \n",
      " 0   Year                         41715 non-null  int64 \n",
      " 1   Industry_aggregation_NZSIOC  41715 non-null  object\n",
      " 2   Industry_code_NZSIOC         41715 non-null  object\n",
      " 3   Industry_name_NZSIOC         41715 non-null  object\n",
      " 4   Units                        41715 non-null  object\n",
      " 5   Variable_code                41715 non-null  object\n",
      " 6   Variable_name                41715 non-null  object\n",
      " 7   Variable_category            41715 non-null  object\n",
      " 8   Value                        41715 non-null  object\n",
      " 9   Industry_code_ANZSIC06       41715 non-null  object\n",
      "dtypes: int64(1), object(9)\n",
      "memory usage: 3.2+ MB\n"
     ]
    }
   ],
   "source": [
    "data.info()"
   ]
  },
  {
   "cell_type": "code",
   "execution_count": 29,
   "id": "30ec7734",
   "metadata": {},
   "outputs": [
    {
     "name": "stdout",
     "output_type": "stream",
     "text": [
      "(41715, 10)\n"
     ]
    }
   ],
   "source": [
    "print(data.shape)"
   ]
  },
  {
   "cell_type": "code",
   "execution_count": 28,
   "id": "8060c947",
   "metadata": {},
   "outputs": [
    {
     "name": "stdout",
     "output_type": "stream",
     "text": [
      "Index(['Year', 'Industry_aggregation_NZSIOC', 'Industry_code_NZSIOC',\n",
      "       'Industry_name_NZSIOC', 'Units', 'Variable_code', 'Variable_name',\n",
      "       'Variable_category', 'Value', 'Industry_code_ANZSIC06'],\n",
      "      dtype='object')\n"
     ]
    }
   ],
   "source": [
    "print(data.columns)"
   ]
  },
  {
   "cell_type": "code",
   "execution_count": 27,
   "id": "d69f7656",
   "metadata": {},
   "outputs": [
    {
     "data": {
      "text/html": [
       "<div>\n",
       "<style scoped>\n",
       "    .dataframe tbody tr th:only-of-type {\n",
       "        vertical-align: middle;\n",
       "    }\n",
       "\n",
       "    .dataframe tbody tr th {\n",
       "        vertical-align: top;\n",
       "    }\n",
       "\n",
       "    .dataframe thead th {\n",
       "        text-align: right;\n",
       "    }\n",
       "</style>\n",
       "<table border=\"1\" class=\"dataframe\">\n",
       "  <thead>\n",
       "    <tr style=\"text-align: right;\">\n",
       "      <th></th>\n",
       "      <th>Year</th>\n",
       "      <th>Industry_aggregation_NZSIOC</th>\n",
       "      <th>Industry_code_NZSIOC</th>\n",
       "      <th>Industry_name_NZSIOC</th>\n",
       "      <th>Units</th>\n",
       "      <th>Variable_code</th>\n",
       "      <th>Variable_name</th>\n",
       "      <th>Variable_category</th>\n",
       "      <th>Value</th>\n",
       "      <th>Industry_code_ANZSIC06</th>\n",
       "    </tr>\n",
       "  </thead>\n",
       "  <tbody>\n",
       "    <tr>\n",
       "      <th>41705</th>\n",
       "      <td>2013</td>\n",
       "      <td>Level 3</td>\n",
       "      <td>ZZ11</td>\n",
       "      <td>Food product manufacturing</td>\n",
       "      <td>Dollars (millions)</td>\n",
       "      <td>H32</td>\n",
       "      <td>Current liabilities</td>\n",
       "      <td>Financial position</td>\n",
       "      <td>10,212</td>\n",
       "      <td>ANZSIC06 groups C111, C112, C113, C114, C115, ...</td>\n",
       "    </tr>\n",
       "    <tr>\n",
       "      <th>41706</th>\n",
       "      <td>2013</td>\n",
       "      <td>Level 3</td>\n",
       "      <td>ZZ11</td>\n",
       "      <td>Food product manufacturing</td>\n",
       "      <td>Dollars (millions)</td>\n",
       "      <td>H33</td>\n",
       "      <td>Other liabilities</td>\n",
       "      <td>Financial position</td>\n",
       "      <td>2,220</td>\n",
       "      <td>ANZSIC06 groups C111, C112, C113, C114, C115, ...</td>\n",
       "    </tr>\n",
       "    <tr>\n",
       "      <th>41707</th>\n",
       "      <td>2013</td>\n",
       "      <td>Level 3</td>\n",
       "      <td>ZZ11</td>\n",
       "      <td>Food product manufacturing</td>\n",
       "      <td>Dollars</td>\n",
       "      <td>H34</td>\n",
       "      <td>Total income per employee count</td>\n",
       "      <td>Financial ratios</td>\n",
       "      <td>523,700</td>\n",
       "      <td>ANZSIC06 groups C111, C112, C113, C114, C115, ...</td>\n",
       "    </tr>\n",
       "    <tr>\n",
       "      <th>41708</th>\n",
       "      <td>2013</td>\n",
       "      <td>Level 3</td>\n",
       "      <td>ZZ11</td>\n",
       "      <td>Food product manufacturing</td>\n",
       "      <td>Dollars</td>\n",
       "      <td>H35</td>\n",
       "      <td>Surplus per employee count</td>\n",
       "      <td>Financial ratios</td>\n",
       "      <td>17,700</td>\n",
       "      <td>ANZSIC06 groups C111, C112, C113, C114, C115, ...</td>\n",
       "    </tr>\n",
       "    <tr>\n",
       "      <th>41709</th>\n",
       "      <td>2013</td>\n",
       "      <td>Level 3</td>\n",
       "      <td>ZZ11</td>\n",
       "      <td>Food product manufacturing</td>\n",
       "      <td>Percentage</td>\n",
       "      <td>H36</td>\n",
       "      <td>Current ratio</td>\n",
       "      <td>Financial ratios</td>\n",
       "      <td>91</td>\n",
       "      <td>ANZSIC06 groups C111, C112, C113, C114, C115, ...</td>\n",
       "    </tr>\n",
       "    <tr>\n",
       "      <th>41710</th>\n",
       "      <td>2013</td>\n",
       "      <td>Level 3</td>\n",
       "      <td>ZZ11</td>\n",
       "      <td>Food product manufacturing</td>\n",
       "      <td>Percentage</td>\n",
       "      <td>H37</td>\n",
       "      <td>Quick ratio</td>\n",
       "      <td>Financial ratios</td>\n",
       "      <td>52</td>\n",
       "      <td>ANZSIC06 groups C111, C112, C113, C114, C115, ...</td>\n",
       "    </tr>\n",
       "    <tr>\n",
       "      <th>41711</th>\n",
       "      <td>2013</td>\n",
       "      <td>Level 3</td>\n",
       "      <td>ZZ11</td>\n",
       "      <td>Food product manufacturing</td>\n",
       "      <td>Percentage</td>\n",
       "      <td>H38</td>\n",
       "      <td>Margin on sales of goods for resale</td>\n",
       "      <td>Financial ratios</td>\n",
       "      <td>40</td>\n",
       "      <td>ANZSIC06 groups C111, C112, C113, C114, C115, ...</td>\n",
       "    </tr>\n",
       "    <tr>\n",
       "      <th>41712</th>\n",
       "      <td>2013</td>\n",
       "      <td>Level 3</td>\n",
       "      <td>ZZ11</td>\n",
       "      <td>Food product manufacturing</td>\n",
       "      <td>Percentage</td>\n",
       "      <td>H39</td>\n",
       "      <td>Return on equity</td>\n",
       "      <td>Financial ratios</td>\n",
       "      <td>12</td>\n",
       "      <td>ANZSIC06 groups C111, C112, C113, C114, C115, ...</td>\n",
       "    </tr>\n",
       "    <tr>\n",
       "      <th>41713</th>\n",
       "      <td>2013</td>\n",
       "      <td>Level 3</td>\n",
       "      <td>ZZ11</td>\n",
       "      <td>Food product manufacturing</td>\n",
       "      <td>Percentage</td>\n",
       "      <td>H40</td>\n",
       "      <td>Return on total assets</td>\n",
       "      <td>Financial ratios</td>\n",
       "      <td>5</td>\n",
       "      <td>ANZSIC06 groups C111, C112, C113, C114, C115, ...</td>\n",
       "    </tr>\n",
       "    <tr>\n",
       "      <th>41714</th>\n",
       "      <td>2013</td>\n",
       "      <td>Level 3</td>\n",
       "      <td>ZZ11</td>\n",
       "      <td>Food product manufacturing</td>\n",
       "      <td>Percentage</td>\n",
       "      <td>H41</td>\n",
       "      <td>Liabilities structure</td>\n",
       "      <td>Financial ratios</td>\n",
       "      <td>46</td>\n",
       "      <td>ANZSIC06 groups C111, C112, C113, C114, C115, ...</td>\n",
       "    </tr>\n",
       "  </tbody>\n",
       "</table>\n",
       "</div>"
      ],
      "text/plain": [
       "       Year Industry_aggregation_NZSIOC Industry_code_NZSIOC  \\\n",
       "41705  2013                     Level 3                 ZZ11   \n",
       "41706  2013                     Level 3                 ZZ11   \n",
       "41707  2013                     Level 3                 ZZ11   \n",
       "41708  2013                     Level 3                 ZZ11   \n",
       "41709  2013                     Level 3                 ZZ11   \n",
       "41710  2013                     Level 3                 ZZ11   \n",
       "41711  2013                     Level 3                 ZZ11   \n",
       "41712  2013                     Level 3                 ZZ11   \n",
       "41713  2013                     Level 3                 ZZ11   \n",
       "41714  2013                     Level 3                 ZZ11   \n",
       "\n",
       "             Industry_name_NZSIOC               Units Variable_code  \\\n",
       "41705  Food product manufacturing  Dollars (millions)           H32   \n",
       "41706  Food product manufacturing  Dollars (millions)           H33   \n",
       "41707  Food product manufacturing             Dollars           H34   \n",
       "41708  Food product manufacturing             Dollars           H35   \n",
       "41709  Food product manufacturing          Percentage           H36   \n",
       "41710  Food product manufacturing          Percentage           H37   \n",
       "41711  Food product manufacturing          Percentage           H38   \n",
       "41712  Food product manufacturing          Percentage           H39   \n",
       "41713  Food product manufacturing          Percentage           H40   \n",
       "41714  Food product manufacturing          Percentage           H41   \n",
       "\n",
       "                             Variable_name   Variable_category    Value  \\\n",
       "41705                  Current liabilities  Financial position   10,212   \n",
       "41706                    Other liabilities  Financial position    2,220   \n",
       "41707      Total income per employee count    Financial ratios  523,700   \n",
       "41708           Surplus per employee count    Financial ratios   17,700   \n",
       "41709                        Current ratio    Financial ratios       91   \n",
       "41710                          Quick ratio    Financial ratios       52   \n",
       "41711  Margin on sales of goods for resale    Financial ratios       40   \n",
       "41712                     Return on equity    Financial ratios       12   \n",
       "41713               Return on total assets    Financial ratios        5   \n",
       "41714                Liabilities structure    Financial ratios       46   \n",
       "\n",
       "                                  Industry_code_ANZSIC06  \n",
       "41705  ANZSIC06 groups C111, C112, C113, C114, C115, ...  \n",
       "41706  ANZSIC06 groups C111, C112, C113, C114, C115, ...  \n",
       "41707  ANZSIC06 groups C111, C112, C113, C114, C115, ...  \n",
       "41708  ANZSIC06 groups C111, C112, C113, C114, C115, ...  \n",
       "41709  ANZSIC06 groups C111, C112, C113, C114, C115, ...  \n",
       "41710  ANZSIC06 groups C111, C112, C113, C114, C115, ...  \n",
       "41711  ANZSIC06 groups C111, C112, C113, C114, C115, ...  \n",
       "41712  ANZSIC06 groups C111, C112, C113, C114, C115, ...  \n",
       "41713  ANZSIC06 groups C111, C112, C113, C114, C115, ...  \n",
       "41714  ANZSIC06 groups C111, C112, C113, C114, C115, ...  "
      ]
     },
     "execution_count": 27,
     "metadata": {},
     "output_type": "execute_result"
    }
   ],
   "source": [
    "print(data.tail(10))"
   ]
  },
  {
   "cell_type": "code",
   "execution_count": 25,
   "id": "00830186",
   "metadata": {},
   "outputs": [
    {
     "name": "stdout",
     "output_type": "stream",
     "text": [
      "Level 3\n"
     ]
    }
   ],
   "source": [
    "print(data[\"Industry_aggregation_NZSIOC\"][75])"
   ]
  },
  {
   "cell_type": "code",
   "execution_count": null,
   "id": "7fd8bf61",
   "metadata": {},
   "outputs": [],
   "source": []
  },
  {
   "cell_type": "code",
   "execution_count": null,
   "id": "cd74b3e2",
   "metadata": {},
   "outputs": [],
   "source": [
    "ax = data.boxplot(column = \"Units\", by =\"Variable_code\", figsize = (8,4))\n",
    "ax.set_ylabel(\"Units\")\n",
    "ax.set_title(\"\")"
   ]
  },
  {
   "cell_type": "code",
   "execution_count": 37,
   "id": "a3b1642d",
   "metadata": {},
   "outputs": [
    {
     "data": {
      "text/html": [
       "<div>\n",
       "<style scoped>\n",
       "    .dataframe tbody tr th:only-of-type {\n",
       "        vertical-align: middle;\n",
       "    }\n",
       "\n",
       "    .dataframe tbody tr th {\n",
       "        vertical-align: top;\n",
       "    }\n",
       "\n",
       "    .dataframe thead th {\n",
       "        text-align: right;\n",
       "    }\n",
       "</style>\n",
       "<table border=\"1\" class=\"dataframe\">\n",
       "  <thead>\n",
       "    <tr style=\"text-align: right;\">\n",
       "      <th></th>\n",
       "      <th>Year</th>\n",
       "    </tr>\n",
       "  </thead>\n",
       "  <tbody>\n",
       "    <tr>\n",
       "      <th>count</th>\n",
       "      <td>41715.00000</td>\n",
       "    </tr>\n",
       "    <tr>\n",
       "      <th>mean</th>\n",
       "      <td>2017.00000</td>\n",
       "    </tr>\n",
       "    <tr>\n",
       "      <th>std</th>\n",
       "      <td>2.58202</td>\n",
       "    </tr>\n",
       "    <tr>\n",
       "      <th>min</th>\n",
       "      <td>2013.00000</td>\n",
       "    </tr>\n",
       "    <tr>\n",
       "      <th>25%</th>\n",
       "      <td>2015.00000</td>\n",
       "    </tr>\n",
       "    <tr>\n",
       "      <th>50%</th>\n",
       "      <td>2017.00000</td>\n",
       "    </tr>\n",
       "    <tr>\n",
       "      <th>75%</th>\n",
       "      <td>2019.00000</td>\n",
       "    </tr>\n",
       "    <tr>\n",
       "      <th>max</th>\n",
       "      <td>2021.00000</td>\n",
       "    </tr>\n",
       "  </tbody>\n",
       "</table>\n",
       "</div>"
      ],
      "text/plain": [
       "              Year\n",
       "count  41715.00000\n",
       "mean    2017.00000\n",
       "std        2.58202\n",
       "min     2013.00000\n",
       "25%     2015.00000\n",
       "50%     2017.00000\n",
       "75%     2019.00000\n",
       "max     2021.00000"
      ]
     },
     "execution_count": 37,
     "metadata": {},
     "output_type": "execute_result"
    }
   ],
   "source": [
    "data.describe()"
   ]
  },
  {
   "cell_type": "code",
   "execution_count": 10,
   "id": "dcffbf9c",
   "metadata": {},
   "outputs": [
    {
     "data": {
      "text/plain": [
       "(41715, 10)"
      ]
     },
     "execution_count": 10,
     "metadata": {},
     "output_type": "execute_result"
    }
   ],
   "source": [
    "data.shape"
   ]
  },
  {
   "cell_type": "code",
   "execution_count": 13,
   "id": "1cef2531",
   "metadata": {},
   "outputs": [
    {
     "data": {
      "text/plain": [
       "<bound method DataFrame.info of        Year Industry_aggregation_NZSIOC Industry_code_NZSIOC  \\\n",
       "0      2021                     Level 1                99999   \n",
       "1      2021                     Level 1                99999   \n",
       "2      2021                     Level 1                99999   \n",
       "3      2021                     Level 1                99999   \n",
       "4      2021                     Level 1                99999   \n",
       "...     ...                         ...                  ...   \n",
       "41710  2013                     Level 3                 ZZ11   \n",
       "41711  2013                     Level 3                 ZZ11   \n",
       "41712  2013                     Level 3                 ZZ11   \n",
       "41713  2013                     Level 3                 ZZ11   \n",
       "41714  2013                     Level 3                 ZZ11   \n",
       "\n",
       "             Industry_name_NZSIOC               Units Variable_code  \\\n",
       "0                  All industries  Dollars (millions)           H01   \n",
       "1                  All industries  Dollars (millions)           H04   \n",
       "2                  All industries  Dollars (millions)           H05   \n",
       "3                  All industries  Dollars (millions)           H07   \n",
       "4                  All industries  Dollars (millions)           H08   \n",
       "...                           ...                 ...           ...   \n",
       "41710  Food product manufacturing          Percentage           H37   \n",
       "41711  Food product manufacturing          Percentage           H38   \n",
       "41712  Food product manufacturing          Percentage           H39   \n",
       "41713  Food product manufacturing          Percentage           H40   \n",
       "41714  Food product manufacturing          Percentage           H41   \n",
       "\n",
       "                                         Variable_name      Variable_category  \\\n",
       "0                                         Total income  Financial performance   \n",
       "1      Sales, government funding, grants and subsidies  Financial performance   \n",
       "2                    Interest, dividends and donations  Financial performance   \n",
       "3                                 Non-operating income  Financial performance   \n",
       "4                                    Total expenditure  Financial performance   \n",
       "...                                                ...                    ...   \n",
       "41710                                      Quick ratio       Financial ratios   \n",
       "41711              Margin on sales of goods for resale       Financial ratios   \n",
       "41712                                 Return on equity       Financial ratios   \n",
       "41713                           Return on total assets       Financial ratios   \n",
       "41714                            Liabilities structure       Financial ratios   \n",
       "\n",
       "         Value                             Industry_code_ANZSIC06  \n",
       "0      757,504  ANZSIC06 divisions A-S (excluding classes K633...  \n",
       "1      674,890  ANZSIC06 divisions A-S (excluding classes K633...  \n",
       "2       49,593  ANZSIC06 divisions A-S (excluding classes K633...  \n",
       "3       33,020  ANZSIC06 divisions A-S (excluding classes K633...  \n",
       "4      654,404  ANZSIC06 divisions A-S (excluding classes K633...  \n",
       "...        ...                                                ...  \n",
       "41710       52  ANZSIC06 groups C111, C112, C113, C114, C115, ...  \n",
       "41711       40  ANZSIC06 groups C111, C112, C113, C114, C115, ...  \n",
       "41712       12  ANZSIC06 groups C111, C112, C113, C114, C115, ...  \n",
       "41713        5  ANZSIC06 groups C111, C112, C113, C114, C115, ...  \n",
       "41714       46  ANZSIC06 groups C111, C112, C113, C114, C115, ...  \n",
       "\n",
       "[41715 rows x 10 columns]>"
      ]
     },
     "execution_count": 13,
     "metadata": {},
     "output_type": "execute_result"
    }
   ],
   "source": [
    "data.info"
   ]
  },
  {
   "cell_type": "code",
   "execution_count": 18,
   "id": "21bc6223",
   "metadata": {},
   "outputs": [
    {
     "data": {
      "text/html": [
       "<div>\n",
       "<style scoped>\n",
       "    .dataframe tbody tr th:only-of-type {\n",
       "        vertical-align: middle;\n",
       "    }\n",
       "\n",
       "    .dataframe tbody tr th {\n",
       "        vertical-align: top;\n",
       "    }\n",
       "\n",
       "    .dataframe thead th {\n",
       "        text-align: right;\n",
       "    }\n",
       "</style>\n",
       "<table border=\"1\" class=\"dataframe\">\n",
       "  <thead>\n",
       "    <tr style=\"text-align: right;\">\n",
       "      <th></th>\n",
       "      <th>Year</th>\n",
       "      <th>Industry_aggregation_NZSIOC</th>\n",
       "      <th>Industry_code_NZSIOC</th>\n",
       "      <th>Industry_name_NZSIOC</th>\n",
       "      <th>Units</th>\n",
       "      <th>Variable_code</th>\n",
       "      <th>Variable_name</th>\n",
       "      <th>Variable_category</th>\n",
       "      <th>Value</th>\n",
       "      <th>Industry_code_ANZSIC06</th>\n",
       "    </tr>\n",
       "  </thead>\n",
       "  <tbody>\n",
       "    <tr>\n",
       "      <th>41710</th>\n",
       "      <td>2013</td>\n",
       "      <td>Level 3</td>\n",
       "      <td>ZZ11</td>\n",
       "      <td>Food product manufacturing</td>\n",
       "      <td>Percentage</td>\n",
       "      <td>H37</td>\n",
       "      <td>Quick ratio</td>\n",
       "      <td>Financial ratios</td>\n",
       "      <td>52</td>\n",
       "      <td>ANZSIC06 groups C111, C112, C113, C114, C115, ...</td>\n",
       "    </tr>\n",
       "    <tr>\n",
       "      <th>41711</th>\n",
       "      <td>2013</td>\n",
       "      <td>Level 3</td>\n",
       "      <td>ZZ11</td>\n",
       "      <td>Food product manufacturing</td>\n",
       "      <td>Percentage</td>\n",
       "      <td>H38</td>\n",
       "      <td>Margin on sales of goods for resale</td>\n",
       "      <td>Financial ratios</td>\n",
       "      <td>40</td>\n",
       "      <td>ANZSIC06 groups C111, C112, C113, C114, C115, ...</td>\n",
       "    </tr>\n",
       "    <tr>\n",
       "      <th>41712</th>\n",
       "      <td>2013</td>\n",
       "      <td>Level 3</td>\n",
       "      <td>ZZ11</td>\n",
       "      <td>Food product manufacturing</td>\n",
       "      <td>Percentage</td>\n",
       "      <td>H39</td>\n",
       "      <td>Return on equity</td>\n",
       "      <td>Financial ratios</td>\n",
       "      <td>12</td>\n",
       "      <td>ANZSIC06 groups C111, C112, C113, C114, C115, ...</td>\n",
       "    </tr>\n",
       "    <tr>\n",
       "      <th>41713</th>\n",
       "      <td>2013</td>\n",
       "      <td>Level 3</td>\n",
       "      <td>ZZ11</td>\n",
       "      <td>Food product manufacturing</td>\n",
       "      <td>Percentage</td>\n",
       "      <td>H40</td>\n",
       "      <td>Return on total assets</td>\n",
       "      <td>Financial ratios</td>\n",
       "      <td>5</td>\n",
       "      <td>ANZSIC06 groups C111, C112, C113, C114, C115, ...</td>\n",
       "    </tr>\n",
       "    <tr>\n",
       "      <th>41714</th>\n",
       "      <td>2013</td>\n",
       "      <td>Level 3</td>\n",
       "      <td>ZZ11</td>\n",
       "      <td>Food product manufacturing</td>\n",
       "      <td>Percentage</td>\n",
       "      <td>H41</td>\n",
       "      <td>Liabilities structure</td>\n",
       "      <td>Financial ratios</td>\n",
       "      <td>46</td>\n",
       "      <td>ANZSIC06 groups C111, C112, C113, C114, C115, ...</td>\n",
       "    </tr>\n",
       "  </tbody>\n",
       "</table>\n",
       "</div>"
      ],
      "text/plain": [
       "       Year Industry_aggregation_NZSIOC Industry_code_NZSIOC  \\\n",
       "41710  2013                     Level 3                 ZZ11   \n",
       "41711  2013                     Level 3                 ZZ11   \n",
       "41712  2013                     Level 3                 ZZ11   \n",
       "41713  2013                     Level 3                 ZZ11   \n",
       "41714  2013                     Level 3                 ZZ11   \n",
       "\n",
       "             Industry_name_NZSIOC       Units Variable_code  \\\n",
       "41710  Food product manufacturing  Percentage           H37   \n",
       "41711  Food product manufacturing  Percentage           H38   \n",
       "41712  Food product manufacturing  Percentage           H39   \n",
       "41713  Food product manufacturing  Percentage           H40   \n",
       "41714  Food product manufacturing  Percentage           H41   \n",
       "\n",
       "                             Variable_name Variable_category Value  \\\n",
       "41710                          Quick ratio  Financial ratios    52   \n",
       "41711  Margin on sales of goods for resale  Financial ratios    40   \n",
       "41712                     Return on equity  Financial ratios    12   \n",
       "41713               Return on total assets  Financial ratios     5   \n",
       "41714                Liabilities structure  Financial ratios    46   \n",
       "\n",
       "                                  Industry_code_ANZSIC06  \n",
       "41710  ANZSIC06 groups C111, C112, C113, C114, C115, ...  \n",
       "41711  ANZSIC06 groups C111, C112, C113, C114, C115, ...  \n",
       "41712  ANZSIC06 groups C111, C112, C113, C114, C115, ...  \n",
       "41713  ANZSIC06 groups C111, C112, C113, C114, C115, ...  \n",
       "41714  ANZSIC06 groups C111, C112, C113, C114, C115, ...  "
      ]
     },
     "execution_count": 18,
     "metadata": {},
     "output_type": "execute_result"
    }
   ],
   "source": [
    "data.tail()"
   ]
  },
  {
   "cell_type": "code",
   "execution_count": null,
   "id": "1f2a21fb",
   "metadata": {},
   "outputs": [],
   "source": []
  },
  {
   "cell_type": "code",
   "execution_count": 23,
   "id": "220968be",
   "metadata": {},
   "outputs": [],
   "source": []
  },
  {
   "cell_type": "code",
   "execution_count": null,
   "id": "41d33496",
   "metadata": {},
   "outputs": [],
   "source": []
  },
  {
   "cell_type": "code",
   "execution_count": null,
   "id": "c656ed87",
   "metadata": {},
   "outputs": [],
   "source": []
  },
  {
   "cell_type": "code",
   "execution_count": null,
   "id": "ae4b4619",
   "metadata": {},
   "outputs": [],
   "source": []
  },
  {
   "cell_type": "code",
   "execution_count": null,
   "id": "4884f8aa",
   "metadata": {},
   "outputs": [],
   "source": []
  },
  {
   "cell_type": "code",
   "execution_count": null,
   "id": "466d335c",
   "metadata": {},
   "outputs": [],
   "source": []
  }
 ],
 "metadata": {
  "kernelspec": {
   "display_name": "Python 3 (ipykernel)",
   "language": "python",
   "name": "python3"
  },
  "language_info": {
   "codemirror_mode": {
    "name": "ipython",
    "version": 3
   },
   "file_extension": ".py",
   "mimetype": "text/x-python",
   "name": "python",
   "nbconvert_exporter": "python",
   "pygments_lexer": "ipython3",
   "version": "3.7.9"
  }
 },
 "nbformat": 4,
 "nbformat_minor": 5
}
